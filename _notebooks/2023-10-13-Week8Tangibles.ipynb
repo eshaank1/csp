{
 "cells": [
  {
   "cell_type": "markdown",
   "metadata": {},
   "source": [
    "---\n",
    "toc: true\n",
    "comments: false\n",
    "layout: post\n",
    "title: Tangibles Week 8\n",
    "courses: { compsci: {week: 8} }\n",
    "type: tangibles\n",
    "---"
   ]
  },
  {
   "cell_type": "markdown",
   "metadata": {},
   "source": [
    "## Accomplishments\n",
    "\n",
    "- Started working on passion project\n",
    "- Created a chat api for our backend\n",
    "- Finished our team teach lesson\n",
    "\n",
    "## Team Teach Notes\n",
    "- A boolean is a variable that stores one of two values, usually true or false\n",
    "- If Statements and other conditionals can be used for iterate through options\n",
    "- Logic Gates can be used too with conditionals/if statements\n",
    "- For loops are used to iterate through lists and run commands on each value\n",
    "- Can use break to end a iteration after some value is reached or adjusted"
   ]
  },
  {
   "cell_type": "markdown",
   "metadata": {},
   "source": [
    "<style> \n",
    "@import url('https://fonts.googleapis.com/css2?family=Roboto');\n",
    "h1{ text-align: center; font-size: 50px; color: #0352fc; font-family: 'Roboto', serif;}\n",
    "h2{ text-align: left; font-size: 18px; color: #0352fc;}\n",
    "body{ text-align: left; font-size: 15px; font-family: 'Roboto', serif; background: black; }\n",
    "</style>"
   ]
  }
 ],
 "metadata": {
  "language_info": {
   "name": "python"
  }
 },
 "nbformat": 4,
 "nbformat_minor": 2
}
