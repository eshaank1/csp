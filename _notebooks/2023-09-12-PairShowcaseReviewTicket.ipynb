{
 "cells": [
  {
   "cell_type": "markdown",
   "metadata": {},
   "source": [
    "---\n",
    "toc: true\n",
    "comments: true\n",
    "layout: post\n",
    "title: Pair Showcase Review Ticket\n",
    "courses: { compsci: {week: 3} }\n",
    "type: tangibles\n",
    "---"
   ]
  },
  {
   "cell_type": "markdown",
   "metadata": {},
   "source": [
    "## Accomplishments\n",
    "\n",
    "- Me and Aaron collaborated over slack with issues and code sharing\n",
    "- We committed on our laptop and pushed it to our repos\n",
    "- We had troubles with our VSCode setup but fixed it with installing extentions for Jupyter Notebooks\n",
    "- Our homepage and personal blog was updates with timebox and our own personal customized themes\n",
    "- We are answering hacks and tangibles weekly with our classwork and homework\n",
    "- We have learned Markdown styling in our jupyter notebooks, as well as cells with JS and Python\n",
    "- Our Jupyter Notebooks have been updated with cells\n",
    "- We used our slack account to collaborate and get advice with each other and with Mr. Lopez\n",
    "- We run make and make clean locally before pushing changes to github repo\n",
    "- We push to our repo often after testing changes locally\n",
    "- We organized our timebox as well as adding themes"
   ]
  },
  {
   "cell_type": "markdown",
   "metadata": {},
   "source": [
    "<style> \n",
    "@import url('https://fonts.googleapis.com/css2?family=Roboto');\n",
    "h1{ text-align: center; font-size: 50px; color: #0352fc; font-family: 'Roboto', serif;}\n",
    "h2{ text-align: left; font-size: 18px; color: #0352fc;}\n",
    "body{ text-align: left; font-size: 15px; font-family: 'Roboto', serif; background: black; }\n",
    "</style>"
   ]
  }
 ],
 "metadata": {
  "language_info": {
   "name": "python"
  },
  "orig_nbformat": 4
 },
 "nbformat": 4,
 "nbformat_minor": 2
}
