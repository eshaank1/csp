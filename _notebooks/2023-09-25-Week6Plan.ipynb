{
 "cells": [
  {
   "cell_type": "markdown",
   "metadata": {},
   "source": [
    "---\n",
    "toc: true\n",
    "comments: true\n",
    "layout: post\n",
    "title: Plan Week 6\n",
    "courses: { compsci: {week: 6} }\n",
    "type: plans\n",
    "---"
   ]
  },
  {
   "cell_type": "markdown",
   "metadata": {},
   "source": [
    "> Monday\n",
    "\n",
    "- Start my Web Programming Basics by doing building the framework and nav on my JS Basics Test\n",
    "\n",
    "> Tuesday\n",
    "\n",
    "- Start brainstorming for my Passion Project with my team by collaborating on slack\n",
    "- Continue finishing my hacks for the JS Basics Test\n",
    "\n",
    "> Wednesday\n",
    "\n",
    "- Begin setting up my flask portfolio backend and deploying on AWS\n",
    "- Finish all my JS Basics Test hacks and collaborate on utterance peer reviews\n",
    "\n",
    "> Thursday\n",
    "\n",
    "- Fix and close all issues from utterance peer reviews\n",
    "- Finish my JS Basics Test Review Ticket\n",
    "\n",
    "> Friday\n",
    "\n",
    "- Live Review Today, then start adding next week stuff"
   ]
  },
  {
   "cell_type": "markdown",
   "metadata": {},
   "source": [
    "<style> \n",
    "@import url('https://fonts.googleapis.com/css2?family=Roboto');\n",
    "h1{ text-align: center; font-size: 50px; color: #0352fc; font-family: 'Roboto', serif;}\n",
    "h2{ text-align: left; font-size: 18px; color: #0352fc;}\n",
    "body{ text-align: left; font-size: 15px; font-family: 'Roboto', serif; background: black; }\n",
    "</style>"
   ]
  }
 ],
 "metadata": {
  "language_info": {
   "name": "python"
  },
  "orig_nbformat": 4
 },
 "nbformat": 4,
 "nbformat_minor": 2
}
