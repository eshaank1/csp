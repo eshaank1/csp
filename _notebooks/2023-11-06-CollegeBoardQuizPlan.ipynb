{
 "cells": [
  {
   "cell_type": "markdown",
   "metadata": {},
   "source": [
    "---\n",
    "toc: true\n",
    "comments: true\n",
    "layout: post\n",
    "title: College Board Quiz Plan\n",
    "courses: { compsci: {week: 12} }\n",
    "type: plans\n",
    "---"
   ]
  },
  {
   "cell_type": "markdown",
   "metadata": {},
   "source": [
    "## Study Plan\n",
    "\n",
    "I will take the quiz and note down tough questions to review later, then I will review and study those before the actual final exam.\n",
    "\n",
    "## Questions to Review\n",
    "\n",
    "- Question 3: Citizen Science is research done with the general public\n",
    "- Question 6: The IETF is in charge of developing Internet protocols\n",
    "- Question 9: Iterative/Incremental development means adding code in smaller steps (commits) and being able to fix errors as it is historically stored and not just in 1 big commit\n",
    "- Question 15: Every device on the internet has an IP address\n",
    "- Question 22: Booleans and understanding code fits\n",
    "- Question 24: Byte pair encoding\n",
    "- Question 28: Binary/bits\n",
    "- Question 39: Open standards and protocols\n",
    "- Question 42: IP Addressing\n",
    "- Question 44: Bit representations\n",
    "- Question 45: NAND Gates\n",
    "- Question 58: How the internet enables crowdsourcing"
   ]
  },
  {
   "cell_type": "markdown",
   "metadata": {},
   "source": [
    "<style> \n",
    "@import url('https://fonts.googleapis.com/css2?family=Roboto');\n",
    "h1{ text-align: center; font-size: 50px; color: #0352fc; font-family: 'Roboto', serif;}\n",
    "h2{ text-align: left; font-size: 18px; color: #0352fc;}\n",
    "body{ text-align: left; font-size: 15px; font-family: 'Roboto', serif; background: black; }\n",
    "</style>"
   ]
  }
 ],
 "metadata": {
  "language_info": {
   "name": "python"
  }
 },
 "nbformat": 4,
 "nbformat_minor": 2
}
