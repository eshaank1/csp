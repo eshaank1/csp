{
 "cells": [
  {
   "cell_type": "markdown",
   "metadata": {},
   "source": [
    "---\n",
    "toc: true\n",
    "comments: false\n",
    "layout: post\n",
    "title: Tangibles Week 0\n",
    "courses: { compsci: {week: 0} }\n",
    "type: tangibles\n",
    "---"
   ]
  },
  {
   "cell_type": "markdown",
   "metadata": {},
   "source": [
    "## Tools and Equipment Overview\n",
    "> Loving Tools\n",
    "\n",
    "- I love my tools because they help me a lot and make the whole process of developing and publishing code much easier through easier testing and writing"
   ]
  },
  {
   "cell_type": "markdown",
   "metadata": {},
   "source": [
    "## VSCode, GitHub Pages Setup\n",
    "> Important Shell Commands\n",
    "\n",
    "- ```wsl```: Opens the Ubuntu WSL System from Powershell\n",
    "- ```cd```: Changes directory in Ubuntu\n",
    "- ```git pull```: Pulls latest version of a repository from github\n",
    "- ```apt```: Used to manage packages on Ubuntu\n",
    "- ```pwd```: Prints working directory in Ubuntu\n",
    "- ```code```: Opens folder or file to edit in VSCode\n",
    "- ```ls```: Lists contents of a directory in Ubuntu\n",
    "\n",
    "> Development Process\n",
    "\n",
    "- On the local machine, my GitHub files are placed in my WSL Ubuntu System, under the directory ```/home/eshaan/vscode/```\n",
    "- On the GitHub cloud, my files are placed under my username (```eshaank1```) and under the specific repository (ex: ```student```)\n",
    "- I would update my template by running ```git pull``` in WSL under the specific directory of the repository I want to update\n",
    "\n",
    "> GitHub Pages (localhost vs deployed server)\n",
    "\n",
    "- Viewing GitHub Pages on localhost is kind of like testing as you can edit and change, but once you commit and push to GitHub then your real deployed server GitHub Page updates to the latest version of your page\n",
    "- My localhost URL is ```localhost:4200/student/``` and nobody else can see it\n",
    "- My GitHub Pages URL is [https://eshaank1.github.io/student/](https://eshaank1.github.io/student/) and it is publicly viewable on the intenet\n",
    "\n",
    "> DNS\n",
    "\n",
    "- I did not change the domain name to my student repository"
   ]
  },
  {
   "cell_type": "markdown",
   "metadata": {},
   "source": [
    "## Issues\n",
    "\n",
    "> Issue 1:\n",
    "\n",
    "- When installing packages, my gem install was not working.  Looking thru my version checks, all my installed packages were in older versions.  I realized that I was running an old version of Ubuntu (Ubuntu 20) and an old version of WSL.\n",
    "- To fix this, I uninstalled my WSL and started from scratch.  After restarting my host Windows system, I installed a fresh WSL and Ubuntu 22.04. Following this, I was able to install all needed packages and install gem, and from the version checks everything was up-to-date.\n",
    "\n",
    "> Issue 2:\n",
    "\n",
    "- I had a comment section under all my blog posts which I didnt want\n",
    "- To fix this, I did some research and realized it was the ```comments: false``` section of my Jupyter Notebook blog files, which I promptly deleted, fixing my issue"
   ]
  },
  {
   "cell_type": "markdown",
   "metadata": {},
   "source": [
    "<style> \n",
    "@import url('https://fonts.googleapis.com/css2?family=Roboto');\n",
    "h1{ text-align: center; font-size: 50px; color: #0352fc; font-family: 'Roboto', serif;}\n",
    "h2{ text-align: left; font-size: 18px; color: #0352fc;}\n",
    "body{ text-align: left; font-size: 15px; font-family: 'Roboto', serif; background: black; }\n",
    "</style>"
   ]
  }
 ],
 "metadata": {
  "language_info": {
   "name": "python"
  },
  "orig_nbformat": 4
 },
 "nbformat": 4,
 "nbformat_minor": 2
}
