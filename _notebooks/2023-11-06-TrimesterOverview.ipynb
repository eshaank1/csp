{
 "cells": [
  {
   "cell_type": "markdown",
   "metadata": {},
   "source": [
    "---\n",
    "toc: true\n",
    "comments: false\n",
    "layout: post\n",
    "title: Trimester Overview\n",
    "courses: { compsci: {week: 12} }\n",
    "type: tangibles\n",
    "---"
   ]
  },
  {
   "cell_type": "markdown",
   "metadata": {},
   "source": [
    "## Skills Learned\n",
    "\n",
    "- Collaboration/Teamwork (Agile Mindset, Slack, Scrum Boards)\n",
    "- Git/Github version control\n",
    "- Deployment (AWS)\n",
    "- Frontend (Javascript, HTML, CSS)\n",
    "- Backend (Python, Flask, APIs)\n",
    "- Databases and data storage\n",
    "- Local Code Testing (Make, Docker, Postman)\n",
    "- WSL/Ubuntu file systems, terminal, and bash commands\n",
    "\n",
    "## Projects/Tasks Completed\n",
    "\n",
    "- Created a thorough blog to show my progress and learning through this class\n",
    "- Created a functioning chat project with deployment, backend, and frontend code\n",
    "- Created a thorough lesson plan for a College Board topic and presented to our class\n",
    "\n",
    "## Trimester 2 Goals\n",
    "\n",
    "- I hope to learn more frontend skills such as HTML, CSS, and Javascript because I focused on the backend and Python Flask this trimester\n",
    "- I hope to make more projects with frontend/backend, especially interesting things to me such as games\n",
    "- I hope to learn more about AWS Deployment and maybe make custom domains for my sites\n",
    "- I hope to make a favicon for my blog and my projects because it adds a cool element"
   ]
  },
  {
   "cell_type": "markdown",
   "metadata": {},
   "source": [
    "<style> \n",
    "@import url('https://fonts.googleapis.com/css2?family=Roboto');\n",
    "h1{ text-align: center; font-size: 50px; color: #0352fc; font-family: 'Roboto', serif;}\n",
    "h2{ text-align: left; font-size: 18px; color: #0352fc;}\n",
    "body{ text-align: left; font-size: 15px; font-family: 'Roboto', serif; background: black; }\n",
    "</style>"
   ]
  }
 ],
 "metadata": {
  "language_info": {
   "name": "python"
  }
 },
 "nbformat": 4,
 "nbformat_minor": 2
}
