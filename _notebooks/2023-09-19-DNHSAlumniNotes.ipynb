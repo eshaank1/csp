{
 "cells": [
  {
   "cell_type": "markdown",
   "metadata": {},
   "source": [
    "---\n",
    "toc: true\n",
    "comments: false\n",
    "layout: post\n",
    "title: DNHS Alumni Notes\n",
    "courses: { compsci: {week: 5} }\n",
    "type: tangibles\n",
    "---"
   ]
  },
  {
   "cell_type": "markdown",
   "metadata": {},
   "source": [
    "## Takeaways and Reflection\n",
    "\n",
    "- Some universites have lottery systems to get in, like CS at UCSD\n",
    "- If you want to do CS in college you should spray applications, but if you don't want to just do CS look into related majors such as Data Science or Cognitive Science\n",
    "- For college applications, extracurriculars relating to CS are good like CyberPatriot and CodeNinjas, they should have an impact too like organizing events and impacting people\n",
    "- Building lots of stuff like projects is great not only for experience but also as a portfolio to show jobs/internships, make sure it is a deployed website so you can share it with anyone easily\n",
    "- Practice LeetCode because it is useful for jobs and they will see you have experience\n",
    "- CHEAT CODES: Vercel is very easy to use and very good (deployment tool), SvelteKit, TailwindCSS\n",
    "- IMPORTANT: having a nice personal website with good format and themes, add your projects here too, you can easily put it on resumes as well, also have it on a domain (~10$/year), build it with TailwindCSS\n",
    "- Picking up newly made smaller tools are very good skills as it can simplify things, it is super useful to make sure you are staying up-to-date and current with new technologies emerging across the industry"
   ]
  },
  {
   "cell_type": "markdown",
   "metadata": {},
   "source": [
    "<style> \n",
    "@import url('https://fonts.googleapis.com/css2?family=Roboto');\n",
    "h1{ text-align: center; font-size: 50px; color: #0352fc; font-family: 'Roboto', serif;}\n",
    "h2{ text-align: left; font-size: 18px; color: #0352fc;}\n",
    "body{ text-align: left; font-size: 15px; font-family: 'Roboto', serif; background: black; }\n",
    "</style>"
   ]
  }
 ],
 "metadata": {
  "language_info": {
   "name": "python"
  },
  "orig_nbformat": 4
 },
 "nbformat": 4,
 "nbformat_minor": 2
}
