{
 "cells": [
  {
   "cell_type": "markdown",
   "metadata": {},
   "source": [
    "---\n",
    "toc: true\n",
    "comments: true\n",
    "layout: post\n",
    "title: Undecidable Problems\n",
    "courses: { compsci: {week: 16} }\n",
    "type: hacks\n",
    "---"
   ]
  },
  {
   "cell_type": "markdown",
   "metadata": {},
   "source": [
    "### Decidable Problem\n",
    "\n",
    "> A decidable problem is one that we can come to a yes/no answer given any input. An examle would be given a number determine if it is divisible by 3. We know that the algorithm below would provide the correct ouput every time."
   ]
  },
  {
   "cell_type": "code",
   "execution_count": null,
   "metadata": {
    "vscode": {
     "languageId": "plaintext"
    }
   },
   "outputs": [],
   "source": [
    "PRODECURE divisbleByThree(num)\n",
    "    IF (num MOD 3 = 0) \n",
    "        RETURN true\n",
    "    ELSE\n",
    "        RETURN false"
   ]
  },
  {
   "cell_type": "markdown",
   "metadata": {},
   "source": [
    "### Undecidable Problem\n",
    "\n",
    "**Halting Problem**\n",
    "> The halting problem is defined as: Given an arbitrary computer program with given inputs will the program stop or will it run forever? \n",
    "\n",
    "\n",
    "**Undecidable Problems**\n",
    "> A problem where an algorithm cannot make a correct yes/no answer every time.\n",
    "\n",
    "One way would be to test for an ending, but what if that ending is not easily found? What if it takes an unreasonable amount of time to find the ending? Is that because there is an ending or does one not exist?\n",
    "\n",
    "You see where the problem comes in? This is an undecidable problem -- there is no algorithm which can always produce a yes/no answer for every input of the problem.\n",
    "\n",
    "**Halting Problem in Computers**\n",
    "Where may we have seen this in computers today? When a website or program takes too long to load it. It may never load, or it may just be taking a long time. Either way, after a certain time the computer decides the program should be stopped.\n",
    "\n",
    "### Popcorn Hack #1\n",
    "An algorithm can be used to solve an undecidable problem. **(False)**\n",
    "\n",
    "### Popcorn Hack #2 \n",
    "If a programmer encounters an undecidable problem, they can just use an alogirhtm that works most of the time. **(False)**"
   ]
  },
  {
   "cell_type": "markdown",
   "metadata": {},
   "source": [
    "### Scenarios of Undecidable Problems in Computing\n",
    "1. **Infinite Loop in Program Execution:**\n",
    "   - When a program enters an infinite loop, it becomes undecidable whether it will eventually terminate or run indefinitely.\n",
    "\n",
    "2. **Complex Conditional Statements:**\n",
    "   - Programs with intricate conditional statements or complex control flow may pose undecidable scenarios, making it challenging to determine their termination.\n",
    "\n",
    "3. **Non-Terminating Recursive Functions:**\n",
    "   - Recursive functions that do not have a base case or have poorly defined termination conditions can result in undecidability regarding their halting behavior.\n",
    "\n",
    "4. **Unknown Input Space Size:**\n",
    "   - In cases where the size of the input space is unknown or unbounded, it becomes difficult to ascertain if a program will halt for all possible inputs.\n",
    "\n",
    "5. **Multithreading and Concurrency:**\n",
    "   - Undecidability may arise in concurrent programs where multiple threads interact, introducing intricate synchronization and communication challenges.\n",
    "\n"
   ]
  },
  {
   "cell_type": "markdown",
   "metadata": {},
   "source": [
    "### Popcorn Hack 3\n",
    "An algorithm exists that can always produce a yes/no answer for the halting problem. (True/False)\n",
    "- False"
   ]
  },
  {
   "cell_type": "markdown",
   "metadata": {},
   "source": [
    "### Homework Question\n",
    "\n",
    "Research and explain how modern  systems or  browsers deal with the aspects of the halting problem when a program takes too long to load. Provide examples of mechanisms or strategies implemented in real-world scenarios to manage unresponsive programs or prolonged loading times.\n",
    "\n",
    "Modern systems and browsers have different ways to address the challenges related to the halting problem when a program takes too long to load. One waya involves implementing timeouts, setting maximum time limits for operations to complete. For example, web browsers use JavaScript timeouts to interrupt script execution if it exceeds a specified duration, preventing the entire page from becoming unresponsive. Asynchronous programming is another way, allowing tasks to run independently to avoid blocking the entire system. Web Workers enable parallel processing, isolating heavy computations from the main thread and preserving user interface responsiveness. Additionally, browsers leverage process isolation and sandboxing, running different tabs or extensions in separate processes to prevent one unresponsive component from affecting the overall system stability. These strategies collectively contribute to managing unresponsive programs and mitigating prolonged loading times in real-world scenarios."
   ]
  },
  {
   "cell_type": "markdown",
   "metadata": {},
   "source": [
    "<style> \n",
    "@import url('https://fonts.googleapis.com/css2?family=Roboto');\n",
    "h1{ text-align: center; font-size: 50px; color: #0352fc; font-family: 'Roboto', serif;}\n",
    "h2{ text-align: left; font-size: 18px; color: #0352fc;}\n",
    "body{ text-align: left; font-size: 15px; font-family: 'Roboto', serif; background: black; }\n",
    "</style>"
   ]
  }
 ],
 "metadata": {
  "language_info": {
   "name": "python"
  },
  "orig_nbformat": 4
 },
 "nbformat": 4,
 "nbformat_minor": 2
}
