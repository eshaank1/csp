{
 "cells": [
  {
   "cell_type": "markdown",
   "metadata": {},
   "source": [
    "---\n",
    "toc: true\n",
    "comments: true\n",
    "layout: post\n",
    "title: Team Test\n",
    "courses: { compsci: {week: 5} }\n",
    "type: hacks\n",
    "---"
   ]
  },
  {
   "cell_type": "markdown",
   "metadata": {},
   "source": [
    "## Roles\n",
    "- Eshaan: Scrum Master\n",
    "- Brandon: Frontend/JavaScript\n",
    "- Aaron: Backend/Python\n",
    "- Ninaad: Dev Ops\n",
    "\n",
    "## PBL Vocabulary\n",
    "- Authentic Assessment: An evaluation method in PBL that focuses on real-world application of knowledge and skills.\n",
    "- Scaffolded Learning: The process of providing support and guidance to students as they work through a complex task in PBL.\n",
    "- Rubric: A scoring guide used to assess the quality of student work and their performance on PBL projects.\n",
    "- Reflection: A critical step in PBL where students analyze their learning experiences, identify challenges, and plan for improvement.\n",
    "- Project Driving Question: A central question that guides the inquiry and problem-solving process in PBL.\n",
    "- Formative Assessment: Ongoing assessments during a PBL project that inform instruction and help students make improvements.\n",
    "- Summative Assessment: An evaluation of student learning at the end of a PBL project to determine overall understanding and achievement.\n",
    "- Team Roles: Assigned responsibilities within a PBL team to ensure efficient project completion.\n",
    "\n",
    "## Agile Vocabulary\n",
    "- Scrum: A specific Agile framework that divides work into time-boxed iterations called sprints.\n",
    "- User Story: A concise, informal description of a feature or functionality from an end-user perspective.\n",
    "- Product Backlog: A prioritized list of features, enhancements, and bug fixes in Agile development.\n",
    "- Sprint Planning: The process of selecting and prioritizing items from the product backlog for a sprint.\n",
    "- Daily Standup: A short daily meeting where team members in Agile projects share progress, challenges, and plans.\n",
    "- Velocity: A measure of the amount of work a development team can complete in a single sprint.\n",
    "- Product Owner: The person responsible for defining and prioritizing the product backlog in Agile.\n",
    "- Sprint Review: A meeting held at the end of a sprint to demonstrate completed work to stakeholders.\n",
    "- Kanban: An Agile methodology that emphasizes visualizing work, limiting work in progress, and continuous improvement.\n",
    "- Burn Down Chart: A visual representation of the remaining work in a sprint or project over time."
   ]
  },
  {
   "cell_type": "markdown",
   "metadata": {},
   "source": [
    "## Identifying and Correcting Errors\n",
    "\n",
    "Identifying and Correcting Errors is an important part of coding, especially as the code gets more complex."
   ]
  },
  {
   "cell_type": "markdown",
   "metadata": {},
   "source": [
    "## Tester Function"
   ]
  },
  {
   "cell_type": "code",
   "execution_count": 10,
   "metadata": {},
   "outputs": [
    {
     "name": "stdout",
     "output_type": "stream",
     "text": [
      "Add two numbers and return the result only if it is positive.\n",
      "Result 1: 8\n",
      "Add two numbers and return the result only if it is positive.\n",
      "IF/ELSE ERROR: Result should be a positive number.\n",
      "CATCH ERROR: Result should be a positive number.\n"
     ]
    },
    {
     "ename": "AssertionError",
     "evalue": "None",
     "output_type": "error",
     "traceback": [
      "\u001b[0;31m---------------------------------------------------------------------------\u001b[0m",
      "\u001b[0;31mAssertionError\u001b[0m                            Traceback (most recent call last)",
      "\u001b[0;32m/tmp/ipykernel_19166/1572055603.py\u001b[0m in \u001b[0;36m<module>\u001b[0;34m\u001b[0m\n\u001b[1;32m     18\u001b[0m \u001b[0mprint\u001b[0m\u001b[0;34m(\u001b[0m\u001b[0;34m\"Result 1:\"\u001b[0m\u001b[0;34m,\u001b[0m \u001b[0mresult1\u001b[0m\u001b[0;34m)\u001b[0m\u001b[0;34m\u001b[0m\u001b[0;34m\u001b[0m\u001b[0m\n\u001b[1;32m     19\u001b[0m \u001b[0;34m\u001b[0m\u001b[0m\n\u001b[0;32m---> 20\u001b[0;31m \u001b[0mresult2\u001b[0m \u001b[0;34m=\u001b[0m \u001b[0madd\u001b[0m\u001b[0;34m(\u001b[0m\u001b[0;34m-\u001b[0m\u001b[0;36m9\u001b[0m\u001b[0;34m,\u001b[0m \u001b[0;36m8\u001b[0m\u001b[0;34m)\u001b[0m  \u001b[0;31m# This should raise an error since it is a negative result\u001b[0m\u001b[0;34m\u001b[0m\u001b[0;34m\u001b[0m\u001b[0m\n\u001b[0m\u001b[1;32m     21\u001b[0m \u001b[0mprint\u001b[0m\u001b[0;34m(\u001b[0m\u001b[0;34m\"Result 2:\"\u001b[0m\u001b[0;34m,\u001b[0m \u001b[0mresult2\u001b[0m\u001b[0;34m)\u001b[0m\u001b[0;34m\u001b[0m\u001b[0;34m\u001b[0m\u001b[0m\n",
      "\u001b[0;32m/tmp/ipykernel_19166/1572055603.py\u001b[0m in \u001b[0;36madd\u001b[0;34m(a, b)\u001b[0m\n\u001b[1;32m      9\u001b[0m \u001b[0;34m\u001b[0m\u001b[0m\n\u001b[1;32m     10\u001b[0m     \u001b[0;31m# Check if the result is positive (CATCH STATEMENT)\u001b[0m\u001b[0;34m\u001b[0m\u001b[0;34m\u001b[0m\u001b[0m\n\u001b[0;32m---> 11\u001b[0;31m     \u001b[0;32massert\u001b[0m \u001b[0mresult\u001b[0m \u001b[0;34m>=\u001b[0m \u001b[0;36m0\u001b[0m\u001b[0;34m,\u001b[0m \u001b[0mprint\u001b[0m\u001b[0;34m(\u001b[0m\u001b[0;34m\"CATCH ERROR: Result should be a positive number.\"\u001b[0m\u001b[0;34m)\u001b[0m\u001b[0;34m\u001b[0m\u001b[0;34m\u001b[0m\u001b[0m\n\u001b[0m\u001b[1;32m     12\u001b[0m \u001b[0;34m\u001b[0m\u001b[0m\n\u001b[1;32m     13\u001b[0m     \u001b[0;31m# Return either the value or the error\u001b[0m\u001b[0;34m\u001b[0m\u001b[0;34m\u001b[0m\u001b[0m\n",
      "\u001b[0;31mAssertionError\u001b[0m: None"
     ]
    }
   ],
   "source": [
    "%%python\n",
    "\n",
    "# Create a test function to add 2 values\n",
    "def add(a, b):\n",
    "    print(\"Add two numbers and return the result only if it is positive.\")\n",
    "    result = a + b\n",
    "    \n",
    "    # Check if the result is negative (IF/ELSE STATEMENT)\n",
    "    if (result <= 0):\n",
    "        print(\"IF/ELSE ERROR: Result should be a positive number.\")\n",
    "    \n",
    "    # Check if the result is negative (CATCH STATEMENT)\n",
    "    assert result >= 0, print(\"CATCH ERROR: Result should be a positive number.\")\n",
    "    \n",
    "    # Return either the value or the error\n",
    "    return result\n",
    "\n",
    "# Testing the function\n",
    "result1 = add(5, 3)  # This should pass without errors\n",
    "print(\"Result 1:\", result1)\n",
    "\n",
    "result2 = add(-9, 8)  # This should raise an error since it is a negative result\n",
    "print(\"Result 2:\", result2)"
   ]
  },
  {
   "cell_type": "markdown",
   "metadata": {},
   "source": [
    "## Identifying and Correcting Errors in my Group\n",
    "\n",
    "- Ninaad: Ninaad couldn't figure out how to add a line before printing his output so with his Agile mindset he brought this issue up in our Slack collaboration channel and the rest of us were able to help him research and figure out that he needed a \\n in his print statements to bring up a new line\n",
    "- Aaron: Aaron had an issue with adding number variables in a single line, so with his Agile mindset he brought this issue up in our Slack collaboration channel and the rest of us were able to help him research and we figured out he needed to put an int() before the variable in Python to define it as an integer"
   ]
  },
  {
   "cell_type": "markdown",
   "metadata": {},
   "source": [
    "<style> \n",
    "@import url('https://fonts.googleapis.com/css2?family=Roboto');\n",
    "h1{ text-align: center; font-size: 50px; color: #0352fc; font-family: 'Roboto', serif;}\n",
    "h2{ text-align: left; font-size: 18px; color: #0352fc;}\n",
    "body{ text-align: left; font-size: 15px; font-family: 'Roboto', serif; background: black; }\n",
    "</style>"
   ]
  }
 ],
 "metadata": {
  "kernelspec": {
   "display_name": "Python 3",
   "language": "python",
   "name": "python3"
  },
  "language_info": {
   "codemirror_mode": {
    "name": "ipython",
    "version": 3
   },
   "file_extension": ".py",
   "mimetype": "text/x-python",
   "name": "python",
   "nbconvert_exporter": "python",
   "pygments_lexer": "ipython3",
   "version": "3.10.12"
  },
  "orig_nbformat": 4
 },
 "nbformat": 4,
 "nbformat_minor": 2
}
