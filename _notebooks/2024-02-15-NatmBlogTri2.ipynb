{
 "cells": [
  {
   "cell_type": "markdown",
   "metadata": {},
   "source": [
    "---\n",
    "toc: true\n",
    "comments: true\n",
    "layout: post\n",
    "title: Natm Blog Tri 2\n",
    "courses: { compsci: {week: 23} }\n",
    "type: tangibles\n",
    "---"
   ]
  },
  {
   "cell_type": "markdown",
   "metadata": {},
   "source": [
    "Blog on me and my team:\n",
    "- Our project was good as it provided a useful tool for people, especially those interested in stocks\n",
    "- However, it could be improved upon as the UI was not very appealing and user-friendly and could be much better, like the CSA groups I observed\n",
    "- From feedback, I will add a better UI for my individual CPT project as well as change the database structure to more easily manage the larger values as they had issues coming through\n",
    "- Pictures of people I talked to on my phone to demo\n",
    "\n",
    "CS Natm Event:\n",
    "- I was impressed by one of the CSA groups becuase they had very good UI design\n",
    "- I was impressed by that same group as their idea was very applicable to us at students, their project enabled students to compare schedules and directly message each other\n",
    "- They also integreated this with our unique PUSD student IDs which was very cool as it related to us as PUSD students\n",
    "- They also used a sqlite database with GET requests similar to we did in CSP this trimester\n",
    "- An improvement they could have made was asynchronous refreshing of messages in the backend instead of constant requests between frontend and backend\n",
    "- I could implement their idea of JWT cookies into my own project features\n",
    "\n",
    "Photography Natm Event:\n",
    "- I liked a picture I saw in Photography as it showed a beautiful red sunset setting over a wet road after a storm\n",
    "- This picture especially appealed to me as I recognized the road in the picture, it is in my neighborhood and I had driven and walked down it many times before"
   ]
  },
  {
   "cell_type": "markdown",
   "metadata": {},
   "source": [
    "<style> \n",
    "@import url('https://fonts.googleapis.com/css2?family=Roboto');\n",
    "h1{ text-align: center; font-size: 50px; color: #0352fc; font-family: 'Roboto', serif;}\n",
    "h2{ text-align: left; font-size: 18px; color: #0352fc;}\n",
    "body{ text-align: left; font-size: 15px; font-family: 'Roboto', serif; background: black; }\n",
    "</style>"
   ]
  }
 ],
 "metadata": {
  "language_info": {
   "name": "python"
  }
 },
 "nbformat": 4,
 "nbformat_minor": 2
}
