{
 "cells": [
  {
   "cell_type": "markdown",
   "metadata": {},
   "source": [
    "---\n",
    "toc: true\n",
    "comments: false\n",
    "layout: post\n",
    "title: Tangibles Week 9\n",
    "courses: { compsci: {week: 9} }\n",
    "type: tangibles\n",
    "---"
   ]
  },
  {
   "cell_type": "markdown",
   "metadata": {},
   "source": [
    "## Accomplishments\n",
    "\n",
    "- Finished the backend for our passion project\n",
    "- Made buttons and nearly finished frontend for our passion project\n",
    "- Finished and presented our team teach lesson\n",
    "\n",
    "## Team Teach Notes\n",
    "\n",
    "- Developing Algorithms ties into Algorithms\n",
    "- It is useful to accomplish certain tasks\n",
    "- If/else statements, booleans, iterations, loops with for\n",
    "\n",
    "## Issues and Fixes\n",
    "\n",
    "- The chat model was not defined so our backend team fixed this by defining the api model in main.py"
   ]
  },
  {
   "cell_type": "markdown",
   "metadata": {},
   "source": [
    "<style> \n",
    "@import url('https://fonts.googleapis.com/css2?family=Roboto');\n",
    "h1{ text-align: center; font-size: 50px; color: #0352fc; font-family: 'Roboto', serif;}\n",
    "h2{ text-align: left; font-size: 18px; color: #0352fc;}\n",
    "body{ text-align: left; font-size: 15px; font-family: 'Roboto', serif; background: black; }\n",
    "</style>"
   ]
  }
 ],
 "metadata": {
  "language_info": {
   "name": "python"
  }
 },
 "nbformat": 4,
 "nbformat_minor": 2
}
