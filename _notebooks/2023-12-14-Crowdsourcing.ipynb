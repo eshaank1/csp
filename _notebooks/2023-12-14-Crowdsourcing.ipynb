{
 "cells": [
  {
   "cell_type": "markdown",
   "metadata": {},
   "source": [
    "---\n",
    "toc: true\n",
    "comments: true\n",
    "layout: post\n",
    "title: Crowdsourcing\n",
    "courses: { compsci: {week: 16} }\n",
    "type: hacks\n",
    "---"
   ]
  },
  {
   "cell_type": "markdown",
   "metadata": {},
   "source": [
    "### Crowdsourcing\n",
    "Crowdsourcing is the action of acquirring work and information from a large group of people via the internet. This information can be obtained from social media and other forms of media throughout the internet. Crowdsourcing allows companies to work with people throughout the world and aquire a variety of different skills. \n",
    "![crowdsourcing image](https://www.investopedia.com/thmb/-csD4ERbU65LWGDvuXuPvUV8cUY=/1500x0/filters:no_upscale():max_bytes(150000):strip_icc()/crowdsourcing.asp-final-7a1d5dcc4f3b45c38c0a5050354f66f4.png)\n",
    "\n",
    "# variations of crowdsourcing\n",
    "Idea Generation: Seeking ideas and suggestions from the crowd to solve a problem or improve a product.\n",
    "\n",
    "Microtasks: Breaking down a large task into smaller, manageable microtasks that can be distributed to a crowd.\n",
    "\n",
    "Funding: Crowdfunding platforms, where a crowd financially supports projects, products, or causes.\n",
    "\n",
    "ata Collection: Gathering and analyzing data through contributions from a large number of individuals.\n",
    "\n",
    "Open Innovation: Involving external contributors in the innovation process of a company.\n",
    "\n",
    "# benefits of crowdsourcing\n",
    "Crowdsourcing is cost efficent because it allows access to talented workers without the need for a traditional workforce. Also, projects and work can be completed in a lesser amount of time due to the many contributors. Finally, the diversity of contributors can lead to innovative ideas and solutions that may have not emerged in a traditional setting. \n",
    "\n",
    "# Example of crowdsourcing\n",
    " A well-known example of crowdsourcing is the website Wikipedia. Wikipedia is an online encyclopedia where anybody can contribute and add information onto the site. \n",
    "\n",
    "# drawbacks of crowdsourcing\n",
    "There might be complications when crowdsourcing such as difficulties in confidentiality and communication between the groups involved. There is also a slight chance of receiving low quality work if a collaborater misunderstands the project's requirements.\n",
    "## Popcorn Hack  \n",
    "How can organizations optimize crowdsoucing while minimizing the drawbacks?\n",
    "\n",
    "People or AI to monitor it."
   ]
  },
  {
   "cell_type": "markdown",
   "metadata": {},
   "source": [
    "## Citizen Science  \n",
    "- Citizen Science is scientific research that the general population helps to conduct. Ordinary citizens, often non-scientists, help contribute data to research projects using computing devices.\n",
    "- Gives a wide range of people the ability to contribute to scientific studies which provides more diverse data.\n",
    "### Popcorn Hack  \n",
    "How do you believe participating in a citizen science project could enhance both scientific research and public engagement, and can you share any specific areas of scientific study where citizen science might make a significant impact in the future?\n",
    "\n",
    "Participating in citizen science projects holds the dual promise of enriching scientific research and fostering widespread public engagement. By involving individuals from diverse backgrounds, citizen science amplifies data collection and analysis capabilities, offering researchers extensive datasets that would be challenging to obtain otherwise. This inclusive approach not only contributes to scientific discovery in areas like environmental monitoring, health, and space exploration but also enhances public understanding and appreciation of science. Moreover, citizen science empowers communities to actively address local and global challenges, promoting a sense of shared responsibility and collaboration. As technological advancements continue, the potential impact of citizen science on fields such as biodiversity conservation, public health, and social sciences is poised to expand, showcasing its pivotal role in shaping the future of scientific inquiry and societal participation."
   ]
  },
  {
   "cell_type": "markdown",
   "metadata": {},
   "source": [
    "# Homework\n",
    "## Question 1  \n",
    "Explain the concept of crowdsourcing. Provide examples of how it is commonly used in different fields.\n",
    "\n",
    "Crowdsourcing involves outsourcing tasks to a large online community for collaborative problem-solving. Examples include Wikipedia for content creation and Foldit for scientific problem-solving, demonstrating its versatility across diverse fields.\n",
    "\n",
    "## Question 2  \n",
    "Discuss the benefits and challenges associated with crowdsourcing. How can organizations effectively harness the power of crowdsourcing while mitigating potential drawbacks?\n",
    "\n",
    "Crowdsourcing offers diverse perspectives, increased innovation, and cost-effectiveness, but challenges include data quality control and potential misuse. Organizations can mitigate drawbacks by implementing robust moderation systems, clear guidelines, and feedback mechanisms, ensuring effective harnessing of crowdsourced input while maintaining integrity and relevance.\n",
    "\n",
    "## Question 3  \n",
    "Identify a real-world example of a successful crowdsourcing project. Explain the project, its goals, and the positive outcomes achieved through the collaboration of a large group of people.\n",
    "\n",
    "\"Foldit,\" an online game, successfully harnessed crowdsourcing to solve protein-folding challenges, resulting in groundbreaking contributions to biochemistry research.\n",
    "\n",
    "### Question 4\n",
    "Create a hypothetical scenario where crowdsourcing could be applied to solve a specific problem. Describe the problem, the type of contributions you would seek from the crowd, and the potential impact of implementing the crowdsourced solution.\n",
    "\n",
    "Imagine a city facing transportation challenges due to traffic congestion. By crowdsourcing real-time traffic data from citizens through a mobile app, the city could gather insights to optimize traffic flow, reduce congestion, and enhance overall urban mobility, showcasing the potential of collective contributions in solving complex urban issues."
   ]
  },
  {
   "cell_type": "markdown",
   "metadata": {},
   "source": [
    "<style> \n",
    "@import url('https://fonts.googleapis.com/css2?family=Roboto');\n",
    "h1{ text-align: center; font-size: 50px; color: #0352fc; font-family: 'Roboto', serif;}\n",
    "h2{ text-align: left; font-size: 18px; color: #0352fc;}\n",
    "body{ text-align: left; font-size: 15px; font-family: 'Roboto', serif; background: black; }\n",
    "</style>"
   ]
  }
 ],
 "metadata": {
  "language_info": {
   "name": "python"
  }
 },
 "nbformat": 4,
 "nbformat_minor": 2
}
