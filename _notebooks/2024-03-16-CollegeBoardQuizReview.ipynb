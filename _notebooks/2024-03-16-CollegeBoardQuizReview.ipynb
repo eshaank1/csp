{
 "cells": [
  {
   "cell_type": "markdown",
   "metadata": {},
   "source": [
    "---\n",
    "toc: false\n",
    "comments: true\n",
    "layout: post\n",
    "title: College Board Quiz Review\n",
    "courses: { compsci: {week: 26} }\n",
    "type: hacks\n",
    "---"
   ]
  },
  {
   "cell_type": "markdown",
   "metadata": {},
   "source": [
    "## Results:\n",
    "Score: 47/70\n",
    "\n",
    "My score dropped since Tri 2, however this was mostly a product of my pacing and not my knowledge of many questions, as I realized when reviewing my quiz.\n",
    "\n",
    "<iframe src=\"https://drive.google.com/file/d/1oAxmsSG3T6UhQkS7F5JTPNRoru5cA8tA/preview\" width=\"640\" height=\"480\" allow=\"autoplay\"></iframe>\n",
    "\n",
    "## Test Corrections:\n",
    "\n",
    "- 4: The Internet is a network of interconnected networks, but the World Wide Web is an information system that is accessed via the Internet.\n",
    "- 9: While some programming languages can be used to manipulate audio data, this is not how audio data are represented digitally. At the lowest level, all digital data are represented as sequences of bits.\n",
    "- 14: By making this change, the procedure will immediately return true any time it encounters a value that is greater than or equal to the preceding value. It will not check any subsequent values in the list.\n",
    "- 42: This result would be displayed if the code segment counted the number of even values in the list rather than the number of odd values.\n",
    "- 44: Programming languages typically represent numbers with a fixed number of bits. The use of a fixed number of bits can lead to overflow or round-off errors.\n",
    "- 45: In this code segment, the first call to botStepper moves the robot forward three squares, rotates it left so that it faces toward the top of the grid, moves it forward three squares, and rotates it right so that it faces right. The second call to botStepper attempts to moves the robot forward four squares, off the edge of the grid, causing execution to terminate.\n",
    "- 46: Any ordering of the three steps will identify the correct restaurant. Sequence II will work. Filtering by number of ratings will remove restaurants without any ratings. Then sorting by rating will put the greatest customer rating at the top of the list. Then filtering by payment type will remove the restaurants that do not accept credit cards.\n",
    "- 50: Symmetric encryption uses a single key. Public key encryption uses a public key for encryption and a private key for decryption.\n",
    "- 51-70: I timed myself to simulate a College Board experience and was running low on time and ended up guessing most of the questions from 51-70.  I need to work on my pacing so that I have enough time to read through and properly answer all the questions."
   ]
  },
  {
   "cell_type": "markdown",
   "metadata": {},
   "source": [
    "<style> \n",
    "@import url('https://fonts.googleapis.com/css2?family=Roboto');\n",
    "h1{ text-align: center; font-size: 50px; color: #0352fc; font-family: 'Roboto', serif;}\n",
    "h2{ text-align: left; font-size: 18px; color: #0352fc;}\n",
    "body{ text-align: left; font-size: 15px; font-family: 'Roboto', serif; background: black; }\n",
    "</style>"
   ]
  }
 ],
 "metadata": {
  "language_info": {
   "name": "python"
  }
 },
 "nbformat": 4,
 "nbformat_minor": 2
}
