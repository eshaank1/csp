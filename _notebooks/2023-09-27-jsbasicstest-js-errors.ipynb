{
 "cells": [
  {
   "cell_type": "markdown",
   "metadata": {},
   "source": [
    "---\n",
    "layout: post\n",
    "hide: True\n",
    "title: JS Errors Hacks\n",
    "type: ccc\n",
    "permalink: /jsbasicstest/js-debug\n",
    "comments: true\n",
    "---"
   ]
  },
  {
   "cell_type": "raw",
   "metadata": {},
   "source": [
    "{% include nav_jsbasicstest.html %}"
   ]
  },
  {
   "cell_type": "markdown",
   "metadata": {},
   "source": [
    "## Segment 1\n",
    "\n",
    "Intended behavior: create a list of characters from the string contained in the variable ```alphabet```"
   ]
  },
  {
   "cell_type": "code",
   "execution_count": 3,
   "metadata": {
    "vscode": {
     "languageId": "javascript"
    }
   },
   "outputs": [
    {
     "data": {
      "application/javascript": "\nvar alphabet = \"abcdefghijklmnopqrstuvwxyz\";\nvar alphabetList = [];\n\nfor (var i = 0; i < 26; i++) {\n\talphabetList.push(alphabet.substring(i,i+1));\n}\n\nconsole.log(alphabetList);\n",
      "text/plain": [
       "<IPython.core.display.Javascript object>"
      ]
     },
     "metadata": {},
     "output_type": "display_data"
    }
   ],
   "source": [
    "%%js\n",
    "\n",
    "var alphabet = \"abcdefghijklmnopqrstuvwxyz\";\n",
    "var alphabetList = [];\n",
    "\n",
    "for (var i = 0; i < 26; i++) {\n",
    "\talphabetList.push(alphabet.substring(i,i+1));\n",
    "}\n",
    "\n",
    "console.log(alphabetList);\n",
    "\n",
    "for (var i = 0; i < 10; i++) {\n",
    "\talphabetList.push(i);\n",
    "}\n"
   ]
  },
  {
   "cell_type": "markdown",
   "metadata": {},
   "source": [
    "### What I Changed (Segment 1)\n",
    "\n",
    "- I changed the for loop to use values from 0-26 instead of 0-10 because the alphabet is 26 letter long.\n",
    "- I also changed the alphabestlist.push from just i (which would push 10 numbers) to alphabet.substring(i,i+1) which would recursively get the substring of each character from the original string and push that into the list"
   ]
  },
  {
   "cell_type": "markdown",
   "metadata": {},
   "source": [
    "## Segment 2\n",
    "\n",
    "Intended behavior: print the number of a given alphabet letter within the alphabet. For example:\n",
    "\n",
    "```\"_\" is letter number _ in the alphabet```\n",
    "\n",
    "Where the underscores (_) are replaced with the letter and the position of that letter within the alphabet (e.g. a=1, b=2, etc.)"
   ]
  },
  {
   "cell_type": "code",
   "execution_count": 10,
   "metadata": {
    "vscode": {
     "languageId": "javascript"
    }
   },
   "outputs": [
    {
     "data": {
      "application/javascript": "\nvar alphabet = \"abcdefghijklmnopqrstuvwxyz\";\nvar alphabetList = [];\n\nfor (var i = 0; i < 26; i++) {\n\talphabetList.push(alphabet.substring(i,i+1));\n}\n\nfor (var i = 0; i < 10; i++) {\n\talphabetList.push(i);\n}\n\nlet letterNumber = 5\n\nfor (var i = 0; i < alphabetList.length; i++) {\n\tif (i === letterNumber) {\n\t\tconsole.log(alphabetList[letterNumber-1] + \" is letter number 5 in the alphabet\")\n\t}\n}\n",
      "text/plain": [
       "<IPython.core.display.Javascript object>"
      ]
     },
     "metadata": {},
     "output_type": "display_data"
    }
   ],
   "source": [
    "%%js\n",
    "\n",
    "var alphabet = \"abcdefghijklmnopqrstuvwxyz\";\n",
    "var alphabetList = [];\n",
    "\n",
    "for (var i = 0; i < 26; i++) {\n",
    "\talphabetList.push(alphabet.substring(i,i+1));\n",
    "}\n",
    "\n",
    "for (var i = 0; i < 10; i++) {\n",
    "\talphabetList.push(i);\n",
    "}\n",
    "\n",
    "let letterNumber = 5\n",
    "\n",
    "for (var i = 0; i < alphabetList.length; i++) {\n",
    "\tif (i === letterNumber) {\n",
    "\t\tconsole.log(alphabetList[letterNumber-1] + \" is letter number 5 in the alphabet\")\n",
    "\t}\n",
    "}"
   ]
  },
  {
   "cell_type": "markdown",
   "metadata": {},
   "source": [
    "### What I Changed (Segment 2)\n",
    "\n",
    "- I changed the for loop to i less than alphabetList.length instead of just alphabetList because you want to go through every item in the list not just the name which would run nothing as it is not a variable for a number\n",
    "- I changed the console log output to alphabetList[letterNumber-1] instead of just letterNumber because you needed to call the letterNumber from the overall list and subtract one because lists starting counting from 0 not 1\n",
    "- I changed the console log output to read \"letter number 5\" not \"letter number 1\" because e is the 5th letter in the alphabet not 1st"
   ]
  },
  {
   "cell_type": "markdown",
   "metadata": {},
   "source": [
    "## Segment 3\n",
    "Intended behavior: print a list of all the odd numbers below 10"
   ]
  },
  {
   "cell_type": "code",
   "execution_count": 13,
   "metadata": {
    "vscode": {
     "languageId": "javascript"
    }
   },
   "outputs": [
    {
     "data": {
      "application/javascript": "\nlet odds = [];\nlet i = 1;\n\nwhile (i <= 10) {\n  odds.push(i);\n  i += 2;\n}\n\nconsole.log(odds);\n",
      "text/plain": [
       "<IPython.core.display.Javascript object>"
      ]
     },
     "metadata": {},
     "output_type": "display_data"
    }
   ],
   "source": [
    "%%js\n",
    "\n",
    "let odds = [];\n",
    "let i = 1;\n",
    "\n",
    "while (i <= 10) {\n",
    "  odds.push(i);\n",
    "  i += 2;\n",
    "}\n",
    "\n",
    "console.log(odds);"
   ]
  },
  {
   "cell_type": "markdown",
   "metadata": {},
   "source": [
    "### What I Changed (Segment 3)\n",
    "\n",
    "- I changed the name for the array from evens to odds because we wanted odds not evens\n",
    "- I changed the value for starting i to 1 not 0 becuase we wanted odds not evens\n",
    "- I replaced ```evens``` with ```odds``` everywhere it occured because I changed the array name before"
   ]
  },
  {
   "cell_type": "markdown",
   "metadata": {},
   "source": [
    "<style> \n",
    "@import url('https://fonts.googleapis.com/css2?family=Roboto');\n",
    "h1{ text-align: center; font-size: 50px; color: #0352fc; font-family: 'Roboto', serif;}\n",
    "h2{ text-align: left; font-size: 18px; color: #0352fc;}\n",
    "body{ text-align: left; font-size: 15px; font-family: 'Roboto', serif; background: black; }\n",
    "</style>"
   ]
  }
 ],
 "metadata": {
  "kernelspec": {
   "display_name": "Python 3",
   "language": "python",
   "name": "python3"
  },
  "language_info": {
   "codemirror_mode": {
    "name": "ipython",
    "version": 3
   },
   "file_extension": ".py",
   "mimetype": "text/x-python",
   "name": "python",
   "nbconvert_exporter": "python",
   "pygments_lexer": "ipython3",
   "version": "3.10.12"
  },
  "orig_nbformat": 4
 },
 "nbformat": 4,
 "nbformat_minor": 2
}
