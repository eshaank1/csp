{
 "cells": [
  {
   "cell_type": "markdown",
   "metadata": {},
   "source": [
    "---\n",
    "layout: post\n",
    "hide: True\n",
    "title: HTML Hacks\n",
    "type: ccc\n",
    "permalink: /jsbasicstest/html\n",
    "comments: true\n",
    "---"
   ]
  },
  {
   "cell_type": "raw",
   "metadata": {},
   "source": [
    "{% include nav_jsbasicstest.html %}"
   ]
  },
  {
   "cell_type": "code",
   "execution_count": 6,
   "metadata": {
    "vscode": {
     "languageId": "html"
    }
   },
   "outputs": [
    {
     "data": {
      "text/html": [
       "\n",
       "<div>\n",
       "    <p>This is paragraph 1. This is paragraph 1. This is paragraph 1. This is paragraph 1.</p>\n",
       "    <button>Click this</button>\n",
       "</div>\n",
       "<br>\n",
       "<br>\n",
       "<div>\n",
       "    <a href=\"https://www.google.com/\">Google</a>\n",
       "    <br>\n",
       "    <a href=\"https://chat.openai.com/\">ChatGPT</a>\n",
       "    <p>This is paragraph 2. This is paragraph 2. This is paragraph 2. This is paragraph 2.</p>\n",
       "</div>\n"
      ],
      "text/plain": [
       "<IPython.core.display.HTML object>"
      ]
     },
     "metadata": {},
     "output_type": "display_data"
    }
   ],
   "source": [
    "%%html\n",
    "\n",
    "<div>\n",
    "    <p>This is paragraph 1. This is paragraph 1. This is paragraph 1. This is paragraph 1.</p>\n",
    "    <button>Click this</button>\n",
    "</div>\n",
    "<br>\n",
    "<br>\n",
    "<div>\n",
    "    <a href=\"https://www.google.com/\">Google</a>\n",
    "    <br>\n",
    "    <a href=\"https://chat.openai.com/\">ChatGPT</a>\n",
    "    <p>This is paragraph 2. This is paragraph 2. This is paragraph 2. This is paragraph 2.</p>\n",
    "</div>"
   ]
  },
  {
   "cell_type": "markdown",
   "metadata": {},
   "source": [
    "<style> \n",
    "@import url('https://fonts.googleapis.com/css2?family=Roboto');\n",
    "h1{ text-align: center; font-size: 50px; color: #0352fc; font-family: 'Roboto', serif;}\n",
    "h2{ text-align: left; font-size: 18px; color: #0352fc;}\n",
    "body{ text-align: left; font-size: 15px; font-family: 'Roboto', serif; background: black; }\n",
    "</style>"
   ]
  }
 ],
 "metadata": {
  "kernelspec": {
   "display_name": "Python 3",
   "language": "python",
   "name": "python3"
  },
  "language_info": {
   "codemirror_mode": {
    "name": "ipython",
    "version": 3
   },
   "file_extension": ".py",
   "mimetype": "text/x-python",
   "name": "python",
   "nbconvert_exporter": "python",
   "pygments_lexer": "ipython3",
   "version": "3.10.12"
  },
  "orig_nbformat": 4
 },
 "nbformat": 4,
 "nbformat_minor": 2
}
