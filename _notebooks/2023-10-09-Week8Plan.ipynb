{
 "cells": [
  {
   "cell_type": "markdown",
   "metadata": {},
   "source": [
    "---\n",
    "toc: true\n",
    "comments: true\n",
    "layout: post\n",
    "title: Plan Week 8\n",
    "courses: { compsci: {week: 8} }\n",
    "type: plans\n",
    "---"
   ]
  },
  {
   "cell_type": "markdown",
   "metadata": {},
   "source": [
    "> Monday\n",
    "\n",
    "- Work on Passion Project\n",
    "\n",
    "> Tuesday\n",
    "\n",
    "- Work on the Team Teach from today\n",
    "\n",
    "> Wednesday\n",
    "\n",
    "- Work on Passion Project\n",
    "\n",
    "> Thursday\n",
    "\n",
    "- Work on the Team Teach from today\n",
    "\n",
    "> Friday\n",
    "\n",
    "- Work on my group's Team Teach"
   ]
  },
  {
   "cell_type": "markdown",
   "metadata": {},
   "source": [
    "<style> \n",
    "@import url('https://fonts.googleapis.com/css2?family=Roboto');\n",
    "h1{ text-align: center; font-size: 50px; color: #0352fc; font-family: 'Roboto', serif;}\n",
    "h2{ text-align: left; font-size: 18px; color: #0352fc;}\n",
    "body{ text-align: left; font-size: 15px; font-family: 'Roboto', serif; background: black; }\n",
    "</style>"
   ]
  }
 ],
 "metadata": {
  "language_info": {
   "name": "python"
  }
 },
 "nbformat": 4,
 "nbformat_minor": 2
}
