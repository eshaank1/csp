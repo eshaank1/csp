{
 "cells": [
  {
   "cell_type": "markdown",
   "metadata": {},
   "source": [
    "---\n",
    "toc: true\n",
    "comments: false\n",
    "layout: post\n",
    "title: Trimester 2 Overview\n",
    "courses: { compsci: {week: 24} }\n",
    "type: tangibles\n",
    "---"
   ]
  },
  {
   "cell_type": "markdown",
   "metadata": {},
   "source": [
    "## Skills Learned\n",
    "\n",
    "- Collaboration/Teamwork (Agile Mindset, Slack, Scrum Boards)\n",
    "- Git/Github version control\n",
    "- Frontend (Javascript, HTML, CSS)\n",
    "- Backend (Python, Flask, APIs)\n",
    "- Databases and data storage (SQLite)\n",
    "- Local Code Testing (Make, Postman)\n",
    "- WSL/Ubuntu file systems, terminal, and bash commands\n",
    "- Binary\n",
    "- Presenting (CPT, Natm)\n",
    "\n",
    "## Projects/Tasks Completed\n",
    "\n",
    "- Created a thorough blog to show my progress and learning through this class\n",
    "- Created a functioning stock info CPT project with databases, backend code, and frontend code\n",
    "- Created a thorough lesson plan for a College Board topic and presented to our class\n",
    "- Created a functioning binary project with different useful features with frontend code\n",
    "\n",
    "## Trimester 3 Goals\n",
    "\n",
    "- I hope to improve upon my CPT project and get it ready for submission to College Board\n",
    "- I hope to make more projects with frontend/backend, especially interesting things to me such as games\n",
    "- I hope to learn more about deployment and deploy my CPT project because I was unable to this trimester\n",
    "- I hope to make a favicon for my blog and my projects because it adds a personalized element"
   ]
  },
  {
   "cell_type": "markdown",
   "metadata": {},
   "source": [
    "<style> \n",
    "@import url('https://fonts.googleapis.com/css2?family=Roboto');\n",
    "h1{ text-align: center; font-size: 50px; color: #0352fc; font-family: 'Roboto', serif;}\n",
    "h2{ text-align: left; font-size: 18px; color: #0352fc;}\n",
    "body{ text-align: left; font-size: 15px; font-family: 'Roboto', serif; background: black; }\n",
    "</style>"
   ]
  }
 ],
 "metadata": {
  "language_info": {
   "name": "python"
  }
 },
 "nbformat": 4,
 "nbformat_minor": 2
}
