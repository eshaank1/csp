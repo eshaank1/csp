{
 "cells": [
  {
   "cell_type": "markdown",
   "metadata": {},
   "source": [
    "---\n",
    "toc: true\n",
    "comments: false\n",
    "layout: post\n",
    "title: Tangibles Week 1\n",
    "courses: { compsci: {week: 1} }\n",
    "type: tangibles\n",
    "---"
   ]
  },
  {
   "cell_type": "markdown",
   "metadata": {},
   "source": [
    "## JS Cell\n",
    "> Reflect on PSEUDO code\n",
    "\n",
    "- My Pseudocode helped me a lot this week as it helped me plan out what I wanted to code before actually coding it\n",
    "\n",
    "> Definitions\n",
    "\n",
    "- Code block: a cell in a jupyter notebook\n",
    "- Sequence: a procedure of commands\n",
    "- Selections: if statement\n",
    "- Iterations: repeated commands"
   ]
  },
  {
   "cell_type": "markdown",
   "metadata": {},
   "source": [
    "## Issues\n",
    "\n",
    "> Issue 1:\n",
    "\n",
    "- When installing packages, my gem install was not working.  Looking thru my version checks, all my installed packages were in older versions.  I realized that I was running an old version of Ubuntu (Ubuntu 20) and an old version of WSL.\n",
    "- To fix this, I uninstalled my WSL and started from scratch.  After restarting my host Windows system, I installed a fresh WSL and Ubuntu 22.04. Following this, I was able to install all needed packages and install gem, and from the version checks everything was up-to-date.\n",
    "\n",
    "> Issue 2:\n",
    "\n",
    "- I had a comment section under all my blog posts which I didnt want\n",
    "- To fix this, I did some research and realized it was the ```comments: false``` section of my Jupyter Notebook blog files, which I promptly deleted, fixing my issue"
   ]
  }
 ],
 "metadata": {
  "language_info": {
   "name": "python"
  },
  "orig_nbformat": 4
 },
 "nbformat": 4,
 "nbformat_minor": 2
}
