{
 "cells": [
  {
   "cell_type": "markdown",
   "metadata": {},
   "source": [
    "---\n",
    "toc: true\n",
    "comments: false\n",
    "layout: post\n",
    "title: Tangibles Week 1\n",
    "courses: { compsci: {week: 1} }\n",
    "type: tangibles\n",
    "---"
   ]
  },
  {
   "cell_type": "markdown",
   "metadata": {},
   "source": [
    "## JS Cell\n",
    "> Reflect on PSEUDO code\n",
    "\n",
    "- My Pseudocode helped me a lot this week as it helped me plan out what I wanted to code before actually coding it\n",
    "\n",
    "> Definitions\n",
    "\n",
    "- Code block: a cell in a jupyter notebook\n",
    "- Sequence: a procedure of commands\n",
    "- Selections: if statement\n",
    "- Iterations: repeated commands"
   ]
  }
 ],
 "metadata": {
  "language_info": {
   "name": "python"
  },
  "orig_nbformat": 4
 },
 "nbformat": 4,
 "nbformat_minor": 2
}
