{
 "cells": [
  {
   "cell_type": "markdown",
   "metadata": {},
   "source": [
    "---\n",
    "toc: true\n",
    "comments: false\n",
    "layout: post\n",
    "title: Tangibles Week 1\n",
    "courses: { compsci: {week: 1} }\n",
    "type: tangibles\n",
    "---"
   ]
  },
  {
   "cell_type": "markdown",
   "metadata": {},
   "source": [
    "## JS Cell\n",
    "> Reflect on PSEUDO code\n",
    "\n",
    "- My Pseudocode helped me a lot this week as it helped me plan out what I wanted to code before actually coding it\n",
    "\n",
    "> Definitions\n",
    "\n",
    "- Code block: a cell in a jupyter notebook\n",
    "- Sequence: a procedure of commands\n",
    "- Selections: if statement\n",
    "- Iterations: repeated commands"
   ]
  },
  {
   "cell_type": "markdown",
   "metadata": {},
   "source": [
    "## Issues\n",
    "\n",
    "> Issue 1:\n",
    "\n",
    "- When I was trying to make my JS Cell with pseudocode, it was not showing up. I fixed this by figuring out how to make a seperate box for pseudocode and I was able to write it and compare to JS and Python."
   ]
  },
  {
   "cell_type": "markdown",
   "metadata": {},
   "source": [
    "<style> \n",
    "@import url('https://fonts.googleapis.com/css2?family=Roboto');\n",
    "h1{ text-align: center; font-size: 50px; color: #0352fc; font-family: 'Roboto', serif;}\n",
    "h2{ text-align: left; font-size: 18px; color: #0352fc;}\n",
    "body{ text-align: left; font-size: 15px; font-family: 'Roboto', serif; background: black; }\n",
    "</style>"
   ]
  }
 ],
 "metadata": {
  "language_info": {
   "name": "python"
  },
  "orig_nbformat": 4
 },
 "nbformat": 4,
 "nbformat_minor": 2
}
