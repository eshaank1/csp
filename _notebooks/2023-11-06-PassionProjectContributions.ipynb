{
 "cells": [
  {
   "cell_type": "markdown",
   "metadata": {},
   "source": [
    "---\n",
    "toc: true\n",
    "comments: true\n",
    "layout: post\n",
    "title: Passion Project Contributions\n",
    "courses: { compsci: {week: 12} }\n",
    "type: hacks\n",
    "---"
   ]
  },
  {
   "cell_type": "markdown",
   "metadata": {},
   "source": [
    "# Backend"
   ]
  },
  {
   "cell_type": "markdown",
   "metadata": {},
   "source": [
    "## CORS Error\n",
    "\n",
    "While our code was working on local, after pushing it wouldn't work on the actual server.  Looking at the frontend console I saw that we had a CORS Error and I added this line of code below as a fix:"
   ]
  },
  {
   "cell_type": "code",
   "execution_count": null,
   "metadata": {},
   "outputs": [],
   "source": [
    "CORS(chat_api, resources={r\"/api/*\": {\"origins\": \"*\"}})"
   ]
  },
  {
   "cell_type": "markdown",
   "metadata": {},
   "source": [
    "## Backend API Model Setup\n",
    "\n",
    "Contributed to creating the data storage features and functions in our backend API Model.  What this code does is that it provides a list to store all messages sent to the backend, and then the frontend will send a GET request every few seconds and update with what is in this list."
   ]
  },
  {
   "cell_type": "code",
   "execution_count": null,
   "metadata": {},
   "outputs": [],
   "source": [
    "import requests\n",
    "\n",
    "chat_data = []  # Data storage (You can replace this with a proper database)\n",
    "\n",
    "def createChat(chatMsg):\n",
    "    chat_data.append(chatMsg)\n",
    "    return chat_data\n",
    "    \n",
    "def readChat():\n",
    "    return chat_data"
   ]
  },
  {
   "cell_type": "markdown",
   "metadata": {},
   "source": [
    "# Frontend"
   ]
  },
  {
   "cell_type": "markdown",
   "metadata": {},
   "source": [
    "## Light/Dark Mode Feature\n",
    "\n",
    "I helped with the creation of the light/dark mode feature of our frontend, changing the colors of our chatbox and the spaces around it.  The code makes variables for different bodies and areas of the chatroom.  It then leads to an if-else statement for whether the button is pressed or not, and proceeds to either change all the colors of the bodies (if button pressed) or runs the else statement (if button is not pressed)."
   ]
  },
  {
   "cell_type": "code",
   "execution_count": null,
   "metadata": {
    "vscode": {
     "languageId": "html"
    }
   },
   "outputs": [],
   "source": [
    "<script>\n",
    "function toggleMode() {\n",
    "    const body = document.body;\n",
    "    const chatroom = document.querySelector('.chatroom');\n",
    "    const chatroomHeader = document.querySelector('.chatroom-header');\n",
    "    const chatroomMessages = document.querySelector('.chatroom-messages');\n",
    "    const input = document.querySelector('input[type=\"text\"]');\n",
    "    const button1 = document.getElementById('send');\n",
    "    const toggleButton = document.getElementById('toggleModeButton');\n",
    "    const moodCheckButton = document.getElementById('moodCheck');\n",
    "    if (body.classList.contains('dark-mode')) {\n",
    "        body.classList.remove('dark-mode');\n",
    "        chatroom.style.backgroundColor = '#FFF'; // Light mode background color\n",
    "        chatroomHeader.style.backgroundColor = '#ADD8E6';\n",
    "        chatroomHeader.style.color = '#000';\n",
    "        chatroomMessages.style.backgroundColor = '#FFF';\n",
    "        input.style.backgroundColor = '#ADD8E6';\n",
    "        input.style.color = '#000';\n",
    "        button1.style.backgroundColor = '#ADD8E6';\n",
    "        button1.style.color = '#FFF';\n",
    "        toggleButton.style.backgroundColor = '#ADD8E6';\n",
    "        toggleButton.style.color = '#FFF';\n",
    "        moodCheckButton.style.backgroundColor = '#ADD8E6';\n",
    "        moodCheckButton.style.color = '#FFF';\n",
    "        toggleButton.textContent = 'Dark Mode';\n",
    "    } else {\n",
    "        body.classList.add('dark-mode');\n",
    "        chatroom.style.backgroundColor = '#000'; // Dark mode background color\n",
    "        chatroomHeader.style.backgroundColor = '#301934';\n",
    "        chatroomHeader.style.color = '#000';\n",
    "        chatroomMessages.style.backgroundColor = '#000';\n",
    "        input.style.backgroundColor = '#301934';\n",
    "        input.style.color = '#FFF';\n",
    "        button1.style.backgroundColor = '#301934';\n",
    "        button1.style.color = '#FFF';\n",
    "        toggleButton.style.backgroundColor = '#301934';\n",
    "        toggleButton.style.color = '#FFF';\n",
    "        moodCheckButton.style.backgroundColor = '#301934';\n",
    "        moodCheckButton.style.color = '#FFF';\n",
    "        toggleButton.textContent = 'Light Mode';\n",
    "    }\n",
    "</script>"
   ]
  },
  {
   "cell_type": "markdown",
   "metadata": {},
   "source": [
    "<style> \n",
    "@import url('https://fonts.googleapis.com/css2?family=Roboto');\n",
    "h1{ text-align: center; font-size: 50px; color: #0352fc; font-family: 'Roboto', serif;}\n",
    "h2{ text-align: left; font-size: 18px; color: #0352fc;}\n",
    "body{ text-align: left; font-size: 15px; font-family: 'Roboto', serif; background: black; }\n",
    "</style>"
   ]
  }
 ],
 "metadata": {
  "language_info": {
   "name": "python"
  }
 },
 "nbformat": 4,
 "nbformat_minor": 2
}
