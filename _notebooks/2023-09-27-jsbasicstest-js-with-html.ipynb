{
 "cells": [
  {
   "cell_type": "markdown",
   "metadata": {},
   "source": [
    "---\n",
    "layout: post\n",
    "hide: True\n",
    "title: JS w/ HTML DOM Hacks\n",
    "type: ccc\n",
    "permalink: /jsbasicstest/dom\n",
    "comments: true\n",
    "---"
   ]
  },
  {
   "cell_type": "raw",
   "metadata": {},
   "source": [
    "{% include nav_jsbasicstest.html %}"
   ]
  },
  {
   "cell_type": "code",
   "execution_count": 14,
   "metadata": {
    "vscode": {
     "languageId": "html"
    }
   },
   "outputs": [
    {
     "data": {
      "text/html": [
       "\n",
       "<div>\n",
       "    <p id=\"pTag1\">This is paragraph 1. This is paragraph 1. This is paragraph 1. This is paragraph 1.</p>\n",
       "    <button id=\"myButton\" onclick=\"switchatags()\">Click this</button>\n",
       "</div>\n",
       "<br>\n",
       "<br>\n",
       "<div>\n",
       "    <a id=\"aTag1\" href=\"https://www.google.com/\">Google</a>\n",
       "    <br>\n",
       "    <a id=\"aTag2\" href=\"https://chat.openai.com/\">ChatGPT</a>\n",
       "    <p>This is paragraph 2. This is paragraph 2. This is paragraph 2. This is paragraph 2.</p>\n",
       "</div>\n",
       "\n",
       "<script>\n",
       "  function switchatags() {\n",
       "    var aTag1 = document.getElementById(\"aTag1\")\n",
       "    var aTag2 = document.getElementById(\"aTag2\")\n",
       "    var pTag1 = document.getElementById(\"pTag1\")\n",
       "    var aTag1inside = aTag1.innerHTML\n",
       "    var aTag2inside = aTag2.innerHTML\n",
       "    aTag1.innerHTML = aTag2inside\n",
       "    aTag2.innerHTML = aTag1inside\n",
       "    var pTag1 = document.getElementById(\"pTag1\")\n",
       "    pTag1.innerHTML = \"switched!\"\n",
       "  }\n",
       "</script>\n"
      ],
      "text/plain": [
       "<IPython.core.display.HTML object>"
      ]
     },
     "metadata": {},
     "output_type": "display_data"
    }
   ],
   "source": [
    "%%html\n",
    "\n",
    "<div>\n",
    "    <p id=\"pTag1\">This is paragraph 1. This is paragraph 1. This is paragraph 1. This is paragraph 1.</p>\n",
    "    <button id=\"myButton\" onclick=\"switchatags()\">Click this</button>\n",
    "</div>\n",
    "<br>\n",
    "<br>\n",
    "<div>\n",
    "    <a id=\"aTag1\" href=\"https://www.google.com/\">Google</a>\n",
    "    <br>\n",
    "    <a id=\"aTag2\" href=\"https://chat.openai.com/\">ChatGPT</a>\n",
    "    <p>This is paragraph 2. This is paragraph 2. This is paragraph 2. This is paragraph 2.</p>\n",
    "</div>\n",
    "\n",
    "<script>\n",
    "  function switchatags() {\n",
    "    var aTag1 = document.getElementById(\"aTag1\")\n",
    "    var aTag2 = document.getElementById(\"aTag2\")\n",
    "    var pTag1 = document.getElementById(\"pTag1\")\n",
    "    var aTag1inside = aTag1.innerHTML\n",
    "    var aTag2inside = aTag2.innerHTML\n",
    "    aTag1.innerHTML = aTag2inside\n",
    "    aTag2.innerHTML = aTag1inside\n",
    "    var pTag1 = document.getElementById(\"pTag1\")\n",
    "    pTag1.innerHTML = \"switched!\"\n",
    "  }\n",
    "</script>"
   ]
  },
  {
   "cell_type": "markdown",
   "metadata": {},
   "source": [
    "<style> \n",
    "@import url('https://fonts.googleapis.com/css2?family=Roboto');\n",
    "h1{ text-align: center; font-size: 50px; color: #0352fc; font-family: 'Roboto', serif;}\n",
    "h2{ text-align: left; font-size: 18px; color: #0352fc;}\n",
    "body{ text-align: left; font-size: 15px; font-family: 'Roboto', serif; background: black; }\n",
    "</style>"
   ]
  }
 ],
 "metadata": {
  "kernelspec": {
   "display_name": "Python 3",
   "language": "python",
   "name": "python3"
  },
  "language_info": {
   "codemirror_mode": {
    "name": "ipython",
    "version": 3
   },
   "file_extension": ".py",
   "mimetype": "text/x-python",
   "name": "python",
   "nbconvert_exporter": "python",
   "pygments_lexer": "ipython3",
   "version": "3.10.12"
  },
  "orig_nbformat": 4
 },
 "nbformat": 4,
 "nbformat_minor": 2
}
