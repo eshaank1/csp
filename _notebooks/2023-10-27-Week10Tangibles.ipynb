{
 "cells": [
  {
   "cell_type": "markdown",
   "metadata": {},
   "source": [
    "---\n",
    "toc: true\n",
    "comments: false\n",
    "layout: post\n",
    "title: Tangibles Week 10\n",
    "courses: { compsci: {week: 10} }\n",
    "type: tangibles\n",
    "---"
   ]
  },
  {
   "cell_type": "markdown",
   "metadata": {},
   "source": [
    "## Accomplishments\n",
    "\n",
    "- Graded all our team teach submitted homeworks\n",
    "- Linked backend and frontend repositories\n",
    "- Nearly finished passion project\n",
    "\n",
    "## Team Teach Notes\n",
    "- Procedures are used to create algorthims that can perform certain actions or return values\n",
    "- Functions and classes take parameters and organize code\n",
    "- Object Oriented Programming is an important skill to organizing code among different files\n",
    "- Libraries can be used to import functions from pre-made libraries, famous ones include PIL images, turtle, and others\n",
    "- Simulations are used to mimic real life events\n",
    "- Simulations allow us to draw accurate inferences from real life simulations and gain insight\n",
    "- Common simulations use cases are like rolling a dice or flipping a coin\n",
    "\n",
    "## Issues and Fixes\n",
    "\n",
    "- Our browser console gave us a CORS request error when fetching data from the backend to frontend so we fixed this by adding in a line to our backend code"
   ]
  },
  {
   "cell_type": "markdown",
   "metadata": {},
   "source": [
    "<style> \n",
    "@import url('https://fonts.googleapis.com/css2?family=Roboto');\n",
    "h1{ text-align: center; font-size: 50px; color: #0352fc; font-family: 'Roboto', serif;}\n",
    "h2{ text-align: left; font-size: 18px; color: #0352fc;}\n",
    "body{ text-align: left; font-size: 15px; font-family: 'Roboto', serif; background: black; }\n",
    "</style>"
   ]
  }
 ],
 "metadata": {
  "language_info": {
   "name": "python"
  }
 },
 "nbformat": 4,
 "nbformat_minor": 2
}
