{
 "cells": [
  {
   "cell_type": "markdown",
   "metadata": {},
   "source": [
    "---\n",
    "toc: true\n",
    "comments: false\n",
    "layout: post\n",
    "title: Python Quiz IO\n",
    "courses: { compsci: {week: 1} }\n",
    "type: hacks\n",
    "---"
   ]
  },
  {
   "cell_type": "markdown",
   "metadata": {},
   "source": [
    "## Description\n",
    "\n",
    "This quiz was built with Python. I made a function and variables for questions and correct answers, then repeated for every question and prompt for answer I had. It ends by giving the user the score they earned."
   ]
  },
  {
   "cell_type": "code",
   "execution_count": 7,
   "metadata": {},
   "outputs": [
    {
     "name": "stdout",
     "output_type": "stream",
     "text": [
      "Hello, eshaan running /bin/python\n",
      "You will be asked 3 questions.\n",
      "Are you ready to take a test?\n",
      "Question: Who is the starting QB for the Steelers?\n",
      "Kenny Pickett is correct!\n",
      "Question: Who is the HC for the Steelers?\n",
      "Mike Tomlin is correct!\n",
      "Question: How many Super Bowls have the Steelers won?\n",
      "Six is correct!\n",
      "eshaan you scored 3/3\n"
     ]
    }
   ],
   "source": [
    "# Imports\n",
    "import getpass, sys\n",
    "\n",
    "# Function for questions\n",
    "def question_with_response(prompt):\n",
    "    print(\"Question: \" + prompt)\n",
    "    msg = input()\n",
    "    return msg\n",
    "\n",
    "# Default Variables\n",
    "questionscount = 3\n",
    "correct = 0\n",
    "\n",
    "# Starting outputs for user\n",
    "print('Hello, ' + getpass.getuser() + \" running \" + sys.executable)\n",
    "print(\"You will be asked \" + str(questionscount) + \" questions.\")\n",
    "print(\"Are you ready to take a test?\")\n",
    "\n",
    "# Lists for questions/answers\n",
    "questions = [\"Who is the starting QB for the Steelers?\",\n",
    "             \"Who is the HC for the Steelers?\",\n",
    "             \"How many Super Bowls have the Steelers won?\"]\n",
    "answers = [\"Kenny Pickett\",\n",
    "           \"Mike Tomlin\",\n",
    "           \"Six\"]\n",
    "\n",
    "# For loop to loop through every question and update the correct variable\n",
    "for x in range(questionscount):\n",
    "  rsp = question_with_response(questions[x])\n",
    "  if rsp == answers[x]:\n",
    "    print(rsp + \" is correct!\")\n",
    "    correct += 1\n",
    "  else:\n",
    "    print(rsp + \" is incorrect!\")\n",
    "\n",
    "# Give user result\n",
    "print(getpass.getuser() + \" you scored \" + str(correct) +\"/\" + str(questionscount))"
   ]
  },
  {
   "cell_type": "markdown",
   "metadata": {},
   "source": [
    "<style> \n",
    "@import url('https://fonts.googleapis.com/css2?family=Roboto');\n",
    "h1{ text-align: center; font-size: 50px; color: #0352fc; font-family: 'Roboto', serif;}\n",
    "h2{ text-align: left; font-size: 18px; color: #0352fc;}\n",
    "body{ text-align: left; font-size: 15px; font-family: 'Roboto', serif; background: black; }\n",
    "</style>"
   ]
  }
 ],
 "metadata": {
  "kernelspec": {
   "display_name": "Python 3",
   "language": "python",
   "name": "python3"
  },
  "language_info": {
   "codemirror_mode": {
    "name": "ipython",
    "version": 3
   },
   "file_extension": ".py",
   "mimetype": "text/x-python",
   "name": "python",
   "nbconvert_exporter": "python",
   "pygments_lexer": "ipython3",
   "version": "3.10.12"
  },
  "orig_nbformat": 4
 },
 "nbformat": 4,
 "nbformat_minor": 2
}
