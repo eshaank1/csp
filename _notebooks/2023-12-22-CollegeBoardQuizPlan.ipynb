{
 "cells": [
  {
   "cell_type": "markdown",
   "metadata": {},
   "source": [
    "---\n",
    "toc: true\n",
    "comments: true\n",
    "layout: post\n",
    "title: College Board Quiz Plan\n",
    "courses: { compsci: {week: 17} }\n",
    "type: plans\n",
    "---"
   ]
  },
  {
   "cell_type": "markdown",
   "metadata": {},
   "source": [
    "## Study Plan\n",
    "\n",
    "I will take the quiz and note down tough questions to review later, then I will review and study those before the actual final exam.\n",
    "\n",
    "## Questions to Review\n",
    "\n",
    "- Question 17: At the lowest level, all digital data (including alphanumeric characters and machine language instructions) are represented with sequences of bits.\n",
    "- Question 28: Code segment I assigns the initial value of alpha to temp, then assigns the initial value of beta to alpha. The initial value of alpha, which has been stored in temp, is then assigned to beta. Therefore, the values of alpha and beta are interchanged. Code segment II assigns the initial value of alpha to temp, then assigns the initial value of alpha to beta. The initial value of alpha, which has been stored in temp, is then assigned to beta. Therefore, both variables are assigned the initial value of alpha.\n",
    "- Question 36: Code segment I assigns the initial value of alpha to temp, then assigns the initial value of beta to alpha. The initial value of alpha, which has been stored in temp, is then assigned to beta. Therefore, the values of alpha and beta are interchanged. Code segment II assigns the initial value of alpha to temp, then assigns the initial value of alpha to beta. The initial value of alpha, which has been stored in temp, is then assigned to beta. Therefore, both variables are assigned the initial value of alpha.\n",
    "- Question 47: A binary search will work on any sorted list, regardless of whether the list contains any duplicate values.\n",
    "- Question 50: Algorithm I accesses elements 2n times (twice for each of n elements), which is considered reasonable time. Algorithm II accesses n^2 elements (n times for each of n elements), which is considered reasonable time.\n",
    "- Question 57: Internet communications are not designed to be completely secure.\n",
    "- Question 59: Open-source software is typically free or low-cost.\n",
    "- Question 60: For example, assume that list1 contains [10, 10, 20, 30, 40, 50, 60] and list2 contains [20, 20, 40, 60, 80]. The first line of code creates bothList, which contains [10, 10, 20, 30, 40, 50, 60, 20, 20, 40, 60, 80]. The second line of code creates uniqueList, which contains [10, 20, 30, 40, 50, 60, 80]. The third line of code assigns to count the length of bothList (12) minus the length of bothList (7), producing the incorrect result 5.\n",
    "- Question 64: For these values, the procedure repeatedly adds -2 to result five times, resulting in the intended product -10.\n",
    "- Question 66: This line should not be removed. The variable count should increase by 1 when currentNum is a perfect number, so it should be incremented in the body of the IF statement.\n",
    "- Question 67: For this code segment, count is increased to 1 the first time \"maple\" is encountered in the list. However, count is reset to 0 when the code segment moves to the next list element. This causes the procedure to return 0 instead of the intended result 1."
   ]
  },
  {
   "cell_type": "markdown",
   "metadata": {},
   "source": [
    "<style> \n",
    "@import url('https://fonts.googleapis.com/css2?family=Roboto');\n",
    "h1{ text-align: center; font-size: 50px; color: #0352fc; font-family: 'Roboto', serif;}\n",
    "h2{ text-align: left; font-size: 18px; color: #0352fc;}\n",
    "body{ text-align: left; font-size: 15px; font-family: 'Roboto', serif; background: black; }\n",
    "</style>"
   ]
  }
 ],
 "metadata": {
  "language_info": {
   "name": "python"
  }
 },
 "nbformat": 4,
 "nbformat_minor": 2
}
