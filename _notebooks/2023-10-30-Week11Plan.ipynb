{
 "cells": [
  {
   "cell_type": "markdown",
   "metadata": {},
   "source": [
    "---\n",
    "toc: true\n",
    "comments: true\n",
    "layout: post\n",
    "title: Plan Week 11\n",
    "courses: { compsci: {week: 11} }\n",
    "type: plans\n",
    "---"
   ]
  },
  {
   "cell_type": "markdown",
   "metadata": {},
   "source": [
    "> Monday\n",
    "\n",
    "- Work on Passion Project\n",
    "\n",
    "> Tuesday\n",
    "\n",
    "- Work on Passion Project\n",
    "\n",
    "> Thursday\n",
    "\n",
    "- Finish the Passion Project and show it in class and at the N@TM\n",
    "\n",
    "> Friday\n",
    "\n",
    "- Prepare for Individual and Team Final Reviews\n",
    "- Prepare for College Board MC Final"
   ]
  },
  {
   "cell_type": "markdown",
   "metadata": {},
   "source": [
    "<style> \n",
    "@import url('https://fonts.googleapis.com/css2?family=Roboto');\n",
    "h1{ text-align: center; font-size: 50px; color: #0352fc; font-family: 'Roboto', serif;}\n",
    "h2{ text-align: left; font-size: 18px; color: #0352fc;}\n",
    "body{ text-align: left; font-size: 15px; font-family: 'Roboto', serif; background: black; }\n",
    "</style>"
   ]
  }
 ],
 "metadata": {
  "language_info": {
   "name": "python"
  }
 },
 "nbformat": 4,
 "nbformat_minor": 2
}
