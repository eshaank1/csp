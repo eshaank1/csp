{
 "cells": [
  {
   "cell_type": "markdown",
   "metadata": {},
   "source": [
    "---\n",
    "toc: true\n",
    "comments: true\n",
    "layout: post\n",
    "title: Pair Showcase Plan\n",
    "courses: { compsci: {week: 3} }\n",
    "type: plans\n",
    "---"
   ]
  },
  {
   "cell_type": "markdown",
   "metadata": {},
   "source": [
    "## Pair Showcase Plan\n",
    "\n",
    "- Open VSCode and go over our blogs/issues/tangibles, especially review ticket for this week\n",
    "\n",
    "- Go over some bash commands we use commonly\n",
    "\n",
    "- Go over our JS, Bash, and Python technicals and explain the code\n",
    "\n",
    "- Open our github pages sites and demonstrate quiz and other games and breakdown the code\n",
    "\n",
    "- Show that our github pages is up to date with the repo which is up to date w/ commits and pushed from local and vscode\n",
    "\n",
    "- Show our timebox formatting and layout and neatness\n",
    "\n",
    "- Also show our custom themes for our sites"
   ]
  },
  {
   "cell_type": "markdown",
   "metadata": {},
   "source": [
    "<style> \n",
    "@import url('https://fonts.googleapis.com/css2?family=Roboto');\n",
    "h1{ text-align: center; font-size: 50px; color: #0352fc; font-family: 'Roboto', serif;}\n",
    "h2{ text-align: left; font-size: 18px; color: #0352fc;}\n",
    "body{ text-align: left; font-size: 15px; font-family: 'Roboto', serif; background: black; }\n",
    "</style>"
   ]
  }
 ],
 "metadata": {
  "language_info": {
   "name": "python"
  },
  "orig_nbformat": 4
 },
 "nbformat": 4,
 "nbformat_minor": 2
}
