{
 "cells": [
  {
   "cell_type": "markdown",
   "metadata": {},
   "source": [
    "---\n",
    "layout: post\n",
    "hide: True\n",
    "title: JS Dataypes Hacks\n",
    "type: ccc\n",
    "permalink: /jsbasicstest/datatypes\n",
    "comments: true\n",
    "---"
   ]
  },
  {
   "cell_type": "raw",
   "metadata": {},
   "source": [
    "{% include nav_jsbasicstest.html %}"
   ]
  },
  {
   "cell_type": "code",
   "execution_count": 1,
   "metadata": {
    "vscode": {
     "languageId": "javascript"
    }
   },
   "outputs": [
    {
     "data": {
      "application/javascript": "\nvar personalObj = {\n    firstname: \"Eshaan\",\n    lastname: \"Kumar\",\n    age: 16,\n    grade: 11,\n    school: \"Del Norte High School\",\n    city: \"San Diego\",\n    period1: \"AP English Language\",\n    period2: \"AP Calculus BC\",\n    period3: \"US History\",\n    period4: \"AP Physics C\",\n    period5: \"AP Computer Science Principles\",\n    sport: \"Tennis\",\n    hobbies: [\"hanging out with friends\", \"listening to music\", \"watching movies\"],\n    interests: [\"computer science\", \"engineering\"]\n};\nvar age = 16;\nvar firstname = \"Eshaan\";\n\nconsole.log(personalObj);\n\nconsole.log(\"Object: mutating the interests array key to economics and finance\");\npersonalObj.interests = [\"economics\", \"finance\"];\nconsole.log(personalObj);\n\nconsole.log(\"In 5 years I will be:\");\nconsole.log(personalObj.age + 5);\n\nconsole.log(\"If Billy is half my age Billy is:\");\nconsole.log(personalObj.age/2);\n\nconsole.log(typeof personalObj)\nconsole.log(typeof age)\nconsole.log(typeof firstname)\n",
      "text/plain": [
       "<IPython.core.display.Javascript object>"
      ]
     },
     "metadata": {},
     "output_type": "display_data"
    }
   ],
   "source": [
    "%%js\n",
    "\n",
    "var personalObj = {\n",
    "    firstname: \"Eshaan\",\n",
    "    lastname: \"Kumar\",\n",
    "    age: 16,\n",
    "    grade: 11,\n",
    "    school: \"Del Norte High School\",\n",
    "    city: \"San Diego\",\n",
    "    period1: \"AP English Language\",\n",
    "    period2: \"AP Calculus BC\",\n",
    "    period3: \"US History\",\n",
    "    period4: \"AP Physics C\",\n",
    "    period5: \"AP Computer Science Principles\",\n",
    "    sport: \"Tennis\",\n",
    "    hobbies: [\"hanging out with friends\", \"listening to music\", \"watching movies\"],\n",
    "    interests: [\"computer science\", \"engineering\"]\n",
    "};\n",
    "var age = 16;\n",
    "var firstname = \"Eshaan\";\n",
    "\n",
    "console.log(personalObj);\n",
    "\n",
    "console.log(\"Object: mutating the interests array key to economics and finance\");\n",
    "personalObj.interests = [\"economics\", \"finance\"];\n",
    "console.log(personalObj);\n",
    "\n",
    "console.log(\"In 5 years I will be:\");\n",
    "console.log(personalObj.age + 5);\n",
    "\n",
    "console.log(\"If Billy is half my age Billy is:\");\n",
    "console.log(personalObj.age/2);\n",
    "\n",
    "console.log(typeof personalObj)\n",
    "console.log(typeof age)\n",
    "console.log(typeof firstname)"
   ]
  },
  {
   "cell_type": "markdown",
   "metadata": {},
   "source": [
    "<style> \n",
    "@import url('https://fonts.googleapis.com/css2?family=Roboto');\n",
    "h1{ text-align: center; font-size: 50px; color: #0352fc; font-family: 'Roboto', serif;}\n",
    "h2{ text-align: left; font-size: 18px; color: #0352fc;}\n",
    "body{ text-align: left; font-size: 15px; font-family: 'Roboto', serif; background: black; }\n",
    "</style>"
   ]
  }
 ],
 "metadata": {
  "kernelspec": {
   "display_name": "Python 3",
   "language": "python",
   "name": "python3"
  },
  "language_info": {
   "codemirror_mode": {
    "name": "ipython",
    "version": 3
   },
   "file_extension": ".py",
   "mimetype": "text/x-python",
   "name": "python",
   "nbconvert_exporter": "python",
   "pygments_lexer": "ipython3",
   "version": "3.10.12"
  },
  "orig_nbformat": 4
 },
 "nbformat": 4,
 "nbformat_minor": 2
}
