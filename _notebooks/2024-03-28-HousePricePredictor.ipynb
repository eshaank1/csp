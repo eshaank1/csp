{
 "cells": [
  {
   "cell_type": "markdown",
   "metadata": {},
   "source": [
    "---\n",
    "toc: false\n",
    "comments: false\n",
    "layout: post\n",
    "title: House Price Predictor\n",
    "type: hacks\n",
    "courses: { compsci: {week: 28} }\n",
    "---"
   ]
  },
  {
   "cell_type": "markdown",
   "metadata": {},
   "source": [
    "# House Price Predictor\n",
    "### Eshaan Kumar\n",
    "\n",
    "This is a tool to predict the price of a home based on various details of the home including:\n",
    "- Acre Lot\n",
    "- Bedrooms\n",
    "- Bathrooms\n",
    "\n",
    "<html lang=\"en\">\n",
    "<head>\n",
    "    <meta charset=\"UTF-8\">\n",
    "    <meta name=\"viewport\" content=\"width=device-width, initial-scale=1.0\">\n",
    "    <title>House Price Prediction</title>\n",
    "</head>\n",
    "<body>\n",
    "    <h1>House Price Prediction</h1>\n",
    "\n",
    "    <label for=\"acre_lot\">Acre Lot:</label>\n",
    "    <input type=\"number\" id=\"acre_lot\"><br><br>\n",
    "\n",
    "    <label for=\"bedrooms\">Bedrooms:</label>\n",
    "    <input type=\"number\" id=\"bedrooms\"><br><br>\n",
    "\n",
    "    <label for=\"bathrooms\">Bathrooms:</label>\n",
    "    <input type=\"number\" id=\"bathrooms\"><br><br>\n",
    "\n",
    "    <button onclick=\"predictPrice()\">Predict Price</button><br><br>\n",
    "\n",
    "    <div id=\"predict\"></div>\n",
    "    <p id=\"result\"></p>\n",
    "\n",
    "<script>\n",
    "    function predictPrice() {\n",
    "        const acreLot = document.getElementById(\"acre_lot\").value;\n",
    "        const bedrooms = document.getElementById(\"bedrooms\").value;\n",
    "        const bathrooms = document.getElementById(\"bathrooms\").value;\n",
    "\n",
    "        const requestData = {\n",
    "            \"acre_lot\": acreLot,\n",
    "            \"bedrooms\": bedrooms,\n",
    "            \"bathrooms\": bathrooms\n",
    "        };\n",
    "        console.log(JSON.stringify(requestData))\n",
    "        fetch(\"http://127.0.0.1:8055/api/houseprice/predict\", {\n",
    "            method: \"POST\",\n",
    "            headers: {\n",
    "                \"Content-Type\": \"application/json\",\n",
    "            },\n",
    "            body: JSON.stringify(requestData),\n",
    "        })\n",
    "        .then(response => response.json())\n",
    "        .then(data => {\n",
    "            document.getElementById(\"result\").innerText = \"Predicted Price: $\" + data.predicted_price;\n",
    "        })\n",
    "        .catch(error => {\n",
    "            console.error(\"Error:\", error);\n",
    "            document.getElementById(\"result\").innerText = \"An error occurred. Please try again.\";\n",
    "        });\n",
    "    }\n",
    "</script>\n",
    "\n",
    "\n",
    "    \n",
    "</body>\n",
    "</html>\n"
   ]
  },
  {
   "cell_type": "markdown",
   "metadata": {},
   "source": [
    "<style> \n",
    "@import url('https://fonts.googleapis.com/css2?family=Roboto');\n",
    "h1{ text-align: center; font-size: 50px; color: #0352fc; font-family: 'Roboto', serif;}\n",
    "h2{ text-align: left; font-size: 18px; color: #0352fc;}\n",
    "body{ text-align: left; font-size: 15px; font-family: 'Roboto', serif; background: black; }\n",
    "</style>"
   ]
  }
 ],
 "metadata": {
  "language_info": {
   "name": "python"
  }
 },
 "nbformat": 4,
 "nbformat_minor": 2
}
