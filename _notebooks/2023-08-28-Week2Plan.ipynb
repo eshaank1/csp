{
 "cells": [
  {
   "cell_type": "markdown",
   "metadata": {},
   "source": [
    "---\n",
    "toc: true\n",
    "comments: false\n",
    "layout: post\n",
    "title: Plan Week 2\n",
    "courses: { compsci: {week: 2} }\n",
    "type: plans\n",
    "---"
   ]
  },
  {
   "cell_type": "markdown",
   "metadata": {},
   "source": [
    "> Monday\n",
    "\n",
    "- Move my blogs and everything into the new format Lab Notebook\n",
    "\n",
    "> Tuesday\n",
    "\n",
    "- Get site up on Github Pages and start commits and pushes\n",
    "\n",
    "> Wednesday\n",
    "\n",
    "- Add, test, and customize the Snake Game and Game of Life\n",
    "\n",
    "> Thursday\n",
    "\n",
    "- Finish my JS Table and add my own game Pacman\n",
    "\n",
    "> Friday\n",
    "\n",
    "- Live Review Today, then start adding next week stuff"
   ]
  }
 ],
 "metadata": {
  "language_info": {
   "name": "python"
  },
  "orig_nbformat": 4
 },
 "nbformat": 4,
 "nbformat_minor": 2
}
