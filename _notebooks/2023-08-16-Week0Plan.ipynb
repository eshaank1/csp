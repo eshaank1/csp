{
 "cells": [
  {
   "cell_type": "markdown",
   "metadata": {},
   "source": [
    "---\n",
    "toc: true\n",
    "comments: false\n",
    "layout: post\n",
    "title: Plan Week 0\n",
    "courses: { compsci: {week: 0} }\n",
    "type: plans\n",
    "---"
   ]
  },
  {
   "cell_type": "markdown",
   "metadata": {},
   "source": [
    "> Wednesday\n",
    "\n",
    "- Get a laptop to use for this class and begin to download needed software\n",
    "\n",
    "> Thursday\n",
    "\n",
    "- Setup my Github and Slack accounts and join\n",
    "\n",
    "> Friday\n",
    "\n",
    "- Begin my blog and start populating my index.md with About Me"
   ]
  }
 ],
 "metadata": {
  "language_info": {
   "name": "python"
  },
  "orig_nbformat": 4
 },
 "nbformat": 4,
 "nbformat_minor": 2
}
