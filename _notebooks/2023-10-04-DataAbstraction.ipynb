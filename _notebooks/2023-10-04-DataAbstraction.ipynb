{
 "cells": [
  {
   "cell_type": "markdown",
   "metadata": {},
   "source": [
    "---\n",
    "toc: true\n",
    "comments: true\n",
    "layout: post\n",
    "title: Data Abstraction\n",
    "courses: { compsci: {week: 7} }\n",
    "type: hacks\n",
    "---"
   ]
  },
  {
   "cell_type": "markdown",
   "metadata": {},
   "source": [
    "## Popcorn Hacks"
   ]
  },
  {
   "cell_type": "code",
   "execution_count": 5,
   "metadata": {},
   "outputs": [
    {
     "name": "stdout",
     "output_type": "stream",
     "text": [
      "Eshaan\n"
     ]
    }
   ],
   "source": [
    "%%python\n",
    "\n",
    "name = \"Eshaan\"\n",
    "print(name)"
   ]
  },
  {
   "cell_type": "code",
   "execution_count": 3,
   "metadata": {},
   "outputs": [
    {
     "name": "stdout",
     "output_type": "stream",
     "text": [
      "Eshaan 16 True\n"
     ]
    }
   ],
   "source": [
    "%%python\n",
    "\n",
    "name = \"Eshaan\"\n",
    "age = 16\n",
    "highschooler = True\n",
    "print(name, age, highschooler)"
   ]
  },
  {
   "cell_type": "code",
   "execution_count": 6,
   "metadata": {},
   "outputs": [
    {
     "name": "stdout",
     "output_type": "stream",
     "text": [
      "16 43 23\n",
      "43 23 23\n"
     ]
    }
   ],
   "source": [
    "%%python\n",
    "\n",
    "age = 16\n",
    "number = 43\n",
    "lebron = 23\n",
    "\n",
    "print (age, number, lebron)\n",
    "\n",
    "age = number\n",
    "number = lebron\n",
    "\n",
    "print (age, number, lebron)"
   ]
  },
  {
   "cell_type": "code",
   "execution_count": 11,
   "metadata": {},
   "outputs": [
    {
     "name": "stdout",
     "output_type": "stream",
     "text": [
      "basketball\n",
      "football\n",
      "soccer\n",
      "tennis\n",
      "golf\n"
     ]
    }
   ],
   "source": [
    "%%python\n",
    "\n",
    "interests = [\"basketball\", \"football\", \"soccer\", \"tennis\", \"golf\"]\n",
    "\n",
    "print(interests[0])\n",
    "print(interests[1])\n",
    "print(interests[2])\n",
    "print(interests[3])\n",
    "print(interests[4])"
   ]
  },
  {
   "cell_type": "code",
   "execution_count": 2,
   "metadata": {},
   "outputs": [
    {
     "name": "stdout",
     "output_type": "stream",
     "text": [
      "[\"basketball\", \"football\", \"soccer\", \"tennis\", \"golf\"]\n"
     ]
    }
   ],
   "source": [
    "%%python\n",
    "\n",
    "import json\n",
    "sports = [\"basketball\", \"football\", \"soccer\", \"tennis\", \"golf\"]\n",
    "json_sports = json.dumps(sports)\n",
    "print(json_sports)"
   ]
  },
  {
   "cell_type": "markdown",
   "metadata": {},
   "source": [
    "## Hacks"
   ]
  },
  {
   "cell_type": "code",
   "execution_count": 4,
   "metadata": {},
   "outputs": [
    {
     "name": "stdout",
     "output_type": "stream",
     "text": [
      "15\n",
      "<class 'int'>\n",
      "Pizza\n",
      "<class 'str'>\n",
      "['Nandan', 'Arnav', 'Torin', 'Remy']\n",
      "<class 'list'>\n",
      "True\n",
      "<class 'bool'>\n",
      "{'Nandan': 'TeamMate1', 'Arnav': 'TeamMate2', 'Torin': 'TeamMate3', 'Remy': 'TeamMate4'}\n",
      "<class 'dict'>\n"
     ]
    }
   ],
   "source": [
    "%%python\n",
    "\n",
    "secretNumber = 15\n",
    "print(secretNumber)\n",
    "print(type(secretNumber))\n",
    "\n",
    "food = \"Pizza\"\n",
    "print(food)\n",
    "print(type(food))\n",
    "\n",
    "names = [\"Nandan\", \"Arnav\", \"Torin\", \"Remy\"]\n",
    "print(names)\n",
    "print(type(names))\n",
    "\n",
    "IamCool = True\n",
    "print(IamCool)\n",
    "print(type(IamCool))\n",
    "\n",
    "##Bonus Problem:\n",
    "\n",
    "names_2 = {\n",
    "    \"Nandan\": \"TeamMate1\",\n",
    "    \"Arnav\": \"TeamMate2\",\n",
    "    \"Torin\": \"TeamMate3\",\n",
    "    \"Remy\": \"TeamMate4\",\n",
    "}\n",
    "\n",
    "print(names_2)\n",
    "print(type(names_2))"
   ]
  },
  {
   "cell_type": "code",
   "execution_count": 3,
   "metadata": {},
   "outputs": [
    {
     "name": "stdout",
     "output_type": "stream",
     "text": [
      "My name is eshaan and I am 16 years old.\n"
     ]
    }
   ],
   "source": [
    "%%python\n",
    "\n",
    "name = \"eshaan\"\n",
    "age = 16\n",
    "agestring = str(age)\n",
    "classlist = [\"english\", \"math\", \"history\", \"physics\", \"compsci\"]\n",
    "\n",
    "print(\"My name is \" + name + \" and I am \" + agestring + \" years old.\")"
   ]
  },
  {
   "cell_type": "markdown",
   "metadata": {},
   "source": [
    "## Homework"
   ]
  },
  {
   "cell_type": "code",
   "execution_count": 17,
   "metadata": {},
   "outputs": [
    {
     "name": "stdout",
     "output_type": "stream",
     "text": [
      "Eshaan is 16 years old.\n",
      "Aaron is 14 years old.\n",
      "Brandon is 15 years old.\n",
      "Ninaad is 18 years old.\n",
      "Ninaad is the oldest person.\n"
     ]
    }
   ],
   "source": [
    "%%python\n",
    "\n",
    "class Person:\n",
    "    def __init__(self, name, age):\n",
    "        self.name = name\n",
    "        self.age = age\n",
    "\n",
    "    def print_people(self):\n",
    "        print(self.name + \" is \" + str(self.age) + \" years old.\")\n",
    "        \n",
    "def oldest_person(people):\n",
    "    oldest = None\n",
    "    for person in people:\n",
    "        if oldest == None:\n",
    "            oldest = person\n",
    "        elif person.age > oldest.age:\n",
    "            oldest = person\n",
    "    print(oldest.name + \" is the oldest person.\")\n",
    "        \n",
    "p1 = Person(\"Eshaan\", 16)\n",
    "p2 = Person(\"Aaron\", 14)\n",
    "p3 = Person(\"Brandon\", 15)\n",
    "p4 = Person(\"Ninaad\", 18)\n",
    "people = {p1, p2, p3, p4}\n",
    "p1.print_people()\n",
    "p2.print_people()\n",
    "p3.print_people()\n",
    "p4.print_people()\n",
    "oldest_person(people)"
   ]
  },
  {
   "cell_type": "markdown",
   "metadata": {},
   "source": [
    "<style> \n",
    "@import url('https://fonts.googleapis.com/css2?family=Roboto');\n",
    "h1{ text-align: center; font-size: 50px; color: #0352fc; font-family: 'Roboto', serif;}\n",
    "h2{ text-align: left; font-size: 18px; color: #0352fc;}\n",
    "body{ text-align: left; font-size: 15px; font-family: 'Roboto', serif; background: black; }\n",
    "</style>"
   ]
  }
 ],
 "metadata": {
  "kernelspec": {
   "display_name": "Python 3",
   "language": "python",
   "name": "python3"
  },
  "language_info": {
   "codemirror_mode": {
    "name": "ipython",
    "version": 3
   },
   "file_extension": ".py",
   "mimetype": "text/x-python",
   "name": "python",
   "nbconvert_exporter": "python",
   "pygments_lexer": "ipython3",
   "version": "3.10.12"
  }
 },
 "nbformat": 4,
 "nbformat_minor": 2
}
