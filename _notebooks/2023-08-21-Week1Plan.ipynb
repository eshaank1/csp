{
 "cells": [
  {
   "cell_type": "markdown",
   "metadata": {},
   "source": [
    "---\n",
    "toc: true\n",
    "comments: false\n",
    "layout: post\n",
    "title: Plan Week 1\n",
    "courses: { compsci: {week: 1} }\n",
    "type: plans\n",
    "---"
   ]
  },
  {
   "cell_type": "markdown",
   "metadata": {},
   "source": [
    "> Monday\n",
    "\n",
    "- Add Freeform picture and everything else about me to homepage index.md of my personal blog\n",
    "\n",
    "> Tuesday\n",
    "\n",
    "- Start blogging hacks and issues from last week and this week\n",
    "\n",
    "> Wednesday\n",
    "\n",
    "- Finish preparing for live review and get my site up on GitHub Pages\n",
    "\n",
    "> Thursday\n",
    "\n",
    "- Live Review Today, then start adding stuff for next week such as the Calculator and Snake games\n",
    "\n",
    "> Friday\n",
    "\n",
    "- Keep adding stuff for next week and start shifting my blogs towards a Lab Notebook"
   ]
  }
 ],
 "metadata": {
  "language_info": {
   "name": "python"
  },
  "orig_nbformat": 4
 },
 "nbformat": 4,
 "nbformat_minor": 2
}
