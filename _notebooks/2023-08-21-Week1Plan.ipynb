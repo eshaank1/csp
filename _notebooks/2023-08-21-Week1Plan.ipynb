{
 "cells": [
  {
   "cell_type": "markdown",
   "metadata": {},
   "source": [
    "---\n",
    "toc: true\n",
    "comments: false\n",
    "layout: post\n",
    "title: Plan Week 1\n",
    "courses: { compsci: {week: 1} }\n",
    "type: plans\n",
    "---"
   ]
  },
  {
   "cell_type": "markdown",
   "metadata": {},
   "source": [
    "> Monday\n",
    "\n",
    "- Add Freeform picture and everything else about me to homepage index.md of my personal blog\n",
    "\n",
    "> Tuesday\n",
    "\n",
    "- Start blogging hacks and issues from last week and this week\n",
    "\n",
    "> Wednesday\n",
    "\n",
    "- Finish preparing for live review and get my site up on GitHub Pages\n",
    "\n",
    "> Thursday\n",
    "\n",
    "- Live Review Today, then start adding stuff for next week such as the Calculator and Snake games\n",
    "\n",
    "> Friday\n",
    "\n",
    "- Keep adding stuff for next week and start shifting my blogs towards a Lab Notebook"
   ]
  },
  {
   "cell_type": "markdown",
   "metadata": {},
   "source": [
    "<style> \n",
    "@import url('https://fonts.googleapis.com/css2?family=Roboto');\n",
    "h1{ text-align: center; font-size: 50px; color: #0352fc; font-family: 'Roboto', serif;}\n",
    "h2{ text-align: left; font-size: 18px; color: #0352fc;}\n",
    "body{ text-align: left; font-size: 15px; font-family: 'Roboto', serif; background: black; }\n",
    "</style>"
   ]
  }
 ],
 "metadata": {
  "language_info": {
   "name": "python"
  },
  "orig_nbformat": 4
 },
 "nbformat": 4,
 "nbformat_minor": 2
}
