{
 "cells": [
  {
   "cell_type": "markdown",
   "metadata": {},
   "source": [
    "---\n",
    "toc: true\n",
    "comments: false\n",
    "layout: post\n",
    "title: Tangibles Week 7\n",
    "courses: { compsci: {week: 7} }\n",
    "type: tangibles\n",
    "---"
   ]
  },
  {
   "cell_type": "markdown",
   "metadata": {},
   "source": [
    "## Accomplishments\n",
    "\n",
    "- Started work on passion project\n",
    "- Started preparing for our team teach\n",
    "- Decided a passion project idea and setup shared frontend and backend repos\n",
    "- Made a scrum board to manage tasks for passion project\n",
    "\n",
    "## Team Teach Notes\n",
    "- Logic gates are used in circuits to make decisions based on a combination of digital signals beign inputed\n",
    "- Algorithm: a finite set of instructions that accomplish a specific task\n",
    "- Data Abstraction: Simplifies data for easier sorting and checking through variables, lists, dictionaries\n",
    "- There are different types of login gates such as NAND, AND, OR, etc..."
   ]
  },
  {
   "cell_type": "markdown",
   "metadata": {},
   "source": [
    "<style> \n",
    "@import url('https://fonts.googleapis.com/css2?family=Roboto');\n",
    "h1{ text-align: center; font-size: 50px; color: #0352fc; font-family: 'Roboto', serif;}\n",
    "h2{ text-align: left; font-size: 18px; color: #0352fc;}\n",
    "body{ text-align: left; font-size: 15px; font-family: 'Roboto', serif; background: black; }\n",
    "</style>"
   ]
  }
 ],
 "metadata": {
  "language_info": {
   "name": "python"
  }
 },
 "nbformat": 4,
 "nbformat_minor": 2
}
