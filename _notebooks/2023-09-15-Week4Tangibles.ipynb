{
 "cells": [
  {
   "cell_type": "markdown",
   "metadata": {},
   "source": [
    "---\n",
    "toc: true\n",
    "comments: false\n",
    "layout: post\n",
    "title: Tangibles Week 4\n",
    "courses: { compsci: {week: 4} }\n",
    "type: tangibles\n",
    "---"
   ]
  },
  {
   "cell_type": "markdown",
   "metadata": {},
   "source": [
    "## Accomplishments\n",
    "\n",
    "- Divided roles in our group (Scrum Master, Dev Ops, Frontend, Backend)\n",
    "- Worked on Team Manifesto and Agile Mindset for team\n",
    "- Created a working python flask server\n",
    "\n",
    "## Issues and Fixes\n",
    "\n",
    "- A teammate's Flask Server was not working so I helped him by suggesting a pip install for flask which solved the problem"
   ]
  },
  {
   "cell_type": "markdown",
   "metadata": {},
   "source": [
    "<style> \n",
    "@import url('https://fonts.googleapis.com/css2?family=Roboto');\n",
    "h1{ text-align: center; font-size: 50px; color: #0352fc; font-family: 'Roboto', serif;}\n",
    "h2{ text-align: left; font-size: 18px; color: #0352fc;}\n",
    "body{ text-align: left; font-size: 15px; font-family: 'Roboto', serif; background: black; }\n",
    "</style>"
   ]
  }
 ],
 "metadata": {
  "language_info": {
   "name": "python"
  }
 },
 "nbformat": 4,
 "nbformat_minor": 2
}
