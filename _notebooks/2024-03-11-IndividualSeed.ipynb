{
 "cells": [
  {
   "cell_type": "markdown",
   "metadata": {},
   "source": [
    "---\n",
    "toc: false\n",
    "comments: true\n",
    "layout: post\n",
    "title: Individual Seed\n",
    "courses: { compsci: {week: 25} }\n",
    "type: hacks\n",
    "---"
   ]
  },
  {
   "cell_type": "markdown",
   "metadata": {},
   "source": [
    "I believe I should get a 90% seed because of what I accomplished last trimester, detailed below:\n",
    "\n",
    "- My progress throughout the trimester is easily viewable at a glance through my blog and time box\n",
    "    - [Blog](https://eshaank1.github.io/csp/compsci)\n",
    "- AP Work\n",
    "    - [CB Quiz Plan](https://eshaank1.github.io/csp//2023/12/22/CollegeBoardQuizPlan_IPYNB_2_.html)\n",
    "- Project Work\n",
    "    - [Binary](https://eshaank1.github.io/csp2/AD_compsci.html)\n",
    "    - [CPT](https://eshaank1.github.io/stocksense/cryptosense)\n",
    "    - [CPT Blog](https://eshaank1.github.io/csp//2024/02/26/CPTFeatureArticle_IPYNB_2_.html)"
   ]
  },
  {
   "cell_type": "markdown",
   "metadata": {},
   "source": [
    "<style> \n",
    "@import url('https://fonts.googleapis.com/css2?family=Roboto');\n",
    "h1{ text-align: center; font-size: 50px; color: #0352fc; font-family: 'Roboto', serif;}\n",
    "h2{ text-align: left; font-size: 18px; color: #0352fc;}\n",
    "body{ text-align: left; font-size: 15px; font-family: 'Roboto', serif; background: black; }\n",
    "</style>"
   ]
  }
 ],
 "metadata": {
  "language_info": {
   "name": "python"
  }
 },
 "nbformat": 4,
 "nbformat_minor": 2
}
