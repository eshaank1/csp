{
 "cells": [
  {
   "cell_type": "markdown",
   "metadata": {},
   "source": [
    "---\n",
    "toc: true\n",
    "comments: true\n",
    "layout: post\n",
    "title: JS Basics Test Review Ticket\n",
    "courses: { compsci: {week: 6} }\n",
    "type: tangibles\n",
    "---"
   ]
  },
  {
   "cell_type": "markdown",
   "metadata": {},
   "source": [
    "## Accomplishments\n",
    "\n",
    "### Collaboration\n",
    "- I reviewed myself before and after changes from my peer reviews. Before I gave myself a 3.40/4 and afterwards I gave myself a 3.78/4\n",
    "- I was reviewed by Kaiyu and he gave me utterance comments on what I did well and what to fix.  He gave me an overall 3.47/4\n",
    "- My team members reviewed me and gave me utterance comments on what I did well and what to fix. They gave me an overall 3.56/4\n",
    "- Me and my team used slack to communicate and hold each other accountable to deadlines outside of class\n",
    "\n",
    "### Tool Use\n",
    "- GitHub to organize our files\n",
    "- GitHub Issues to organize our peer review suggestions\n",
    "- Utterances was used to organize my peer reviews into GitHub Issues\n",
    "- VSCode was used to commit and test locally with make, and also to push our commits to GitHub\n",
    "- Jupyter Notebooks were used to organize our code with our notes\n",
    "\n",
    "### Issues/Fixes\n",
    "- My code cell was not working for JS, after some research and collaborating with my teammates on slack, I realized I had to put ```%%js``` at the top\n",
    "\n",
    "### Learnings\n",
    "- Basics HTML layouts and cell types and how to manuipulate them\n",
    "- Using MD and HTML for permalinks and nav blocks\n",
    "- Manipulating HTML layouts with JS"
   ]
  },
  {
   "cell_type": "markdown",
   "metadata": {},
   "source": [
    "<style> \n",
    "@import url('https://fonts.googleapis.com/css2?family=Roboto');\n",
    "h1{ text-align: center; font-size: 50px; color: #0352fc; font-family: 'Roboto', serif;}\n",
    "h2{ text-align: left; font-size: 18px; color: #0352fc;}\n",
    "body{ text-align: left; font-size: 15px; font-family: 'Roboto', serif; background: black; }\n",
    "</style>"
   ]
  }
 ],
 "metadata": {
  "language_info": {
   "name": "python"
  },
  "orig_nbformat": 4
 },
 "nbformat": 4,
 "nbformat_minor": 2
}
