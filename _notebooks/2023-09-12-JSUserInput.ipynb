{
 "cells": [
  {
   "cell_type": "markdown",
   "metadata": {},
   "source": [
    "---\n",
    "toc: true\n",
    "comments: true\n",
    "layout: post\n",
    "title: JS User Input\n",
    "courses: { compsci: {week: 3} }\n",
    "type: hacks\n",
    "---"
   ]
  },
  {
   "cell_type": "markdown",
   "metadata": {},
   "source": [
    "## Simple JS User Input Program"
   ]
  },
  {
   "cell_type": "code",
   "execution_count": null,
   "metadata": {
    "vscode": {
     "languageId": "javascript"
    }
   },
   "outputs": [],
   "source": [
    "%%js\n",
    "\n",
    "// Prompt the user for input and store it in a variable\n",
    "var userInput = prompt(\"Enter something:\");\n",
    "\n",
    "// Display the user's input\n",
    "if (userInput !== null) {\n",
    "    console.log(\"You entered: \" + userInput);\n",
    "} else {\n",
    "    console.log(\"No input provided.\");\n",
    "}"
   ]
  },
  {
   "cell_type": "markdown",
   "metadata": {},
   "source": [
    "<style> \n",
    "@import url('https://fonts.googleapis.com/css2?family=Roboto');\n",
    "h1{ text-align: center; font-size: 50px; color: #0352fc; font-family: 'Roboto', serif;}\n",
    "h2{ text-align: left; font-size: 18px; color: #0352fc;}\n",
    "body{ text-align: left; font-size: 15px; font-family: 'Roboto', serif; background: black; }\n",
    "</style>"
   ]
  }
 ],
 "metadata": {
  "kernelspec": {
   "display_name": "Python 3",
   "language": "python",
   "name": "python3"
  },
  "language_info": {
   "codemirror_mode": {
    "name": "ipython",
    "version": 3
   },
   "file_extension": ".py",
   "mimetype": "text/x-python",
   "name": "python",
   "nbconvert_exporter": "python",
   "pygments_lexer": "ipython3",
   "version": "3.10.12"
  },
  "orig_nbformat": 4
 },
 "nbformat": 4,
 "nbformat_minor": 2
}
